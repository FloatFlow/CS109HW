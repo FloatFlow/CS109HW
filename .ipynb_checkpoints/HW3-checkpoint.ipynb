{
 "cells": [
  {
   "cell_type": "markdown",
   "metadata": {},
   "source": [
    "# Homework 3: Prediction and Classification\n",
    "\n",
    "Due: Thursday, October 16, 2014 11:59 PM\n",
    "\n",
    "<a href=https://raw.githubusercontent.com/cs109/2014/master/homework/HW3.ipynb download=HW3.ipynb> Download this assignment</a>\n",
    "\n",
    "#### Submission Instructions\n",
    "To submit your homework, create a folder named lastname_firstinitial_hw# and place your IPython notebooks, data files, and any other files in this folder. Your IPython Notebooks should be completely executed with the results visible in the notebook. We should not have to run any code. Compress the folder (please use .zip compression) and submit to the CS109 dropbox in the appropriate folder. If we cannot access your work because these directions are not followed correctly, we will not grade your work.\n",
    "\n",
    "---\n"
   ]
  },
  {
   "cell_type": "markdown",
   "metadata": {},
   "source": [
    "# Introduction\n",
    "\n",
    "In this assignment you will be using regression and classification to explore different data sets.  \n",
    "\n",
    "**First**: You will use data from before 2002 in the [Sean Lahman's Baseball Database](http://seanlahman.com/baseball-archive/statistics) to create a metric for picking baseball players using linear regression. This is same database we used in Homework 1. This database contains the \"complete batting and pitching statistics from 1871 to 2013, plus fielding statistics, standings, team stats, managerial records, post-season data, and more\". [Documentation provided here](http://seanlahman.com/files/database/readme2012.txt).\n",
    "\n",
    "![\"Sabermetrics Science\"](http://saberseminar.com/wp-content/uploads/2012/01/saber-web.jpg)\n",
    "http://saberseminar.com/wp-content/uploads/2012/01/saber-web.jpg\n",
    "\n",
    "**Second**: You will use the famous [iris](http://en.wikipedia.org/wiki/Iris_flower_data_set) data set to perform a $k$-neareast neighbor classification using cross validation.  While it was introduced in 1936, it is still [one of the most popular](http://archive.ics.uci.edu/ml/) example data sets in the machine learning community. Wikipedia describes the data set as follows: \"The data set consists of 50 samples from each of three species of Iris (Iris setosa, Iris virginica and Iris versicolor). Four features were measured from each sample: the length and the width of the sepals and petals, in centimetres.\" Here is an illustration what the four features measure:\n",
    "\n",
    "![\"iris data features\"](http://sebastianraschka.com/Images/2014_python_lda/iris_petal_sepal.png)\n",
    "http://sebastianraschka.com/Images/2014_python_lda/iris_petal_sepal.png\n",
    "\n",
    "**Third**: You will investigate the influence of higher dimensional spaces on the classification using another standard data set in machine learning called the The [digits data set](http://scikit-learn.org/stable/modules/generated/sklearn.datasets.load_digits.html).  This data set is similar to the MNIST data set discussed in the lecture. The main difference is, that each digit is represented by an 8x8 pixel image patch, which is considerably smaller than the 28x28 pixels from MNIST. In addition, the gray values are restricted to 16 different values (4 bit), instead of 256 (8 bit) for MNIST. \n",
    "\n",
    "**Finally**: In preparation for Homework 4, we want you to read through the following articles related to predicting the 2014 Senate Midterm Elections. \n",
    "\n",
    "* [Nate Silver's Methodology at while at NYT](http://fivethirtyeight.blogs.nytimes.com/methodology/)\n",
    "* [How The FiveThirtyEight Senate Forecast Model Works](http://fivethirtyeight.com/features/how-the-fivethirtyeight-senate-forecast-model-works/)\n",
    "* [Pollster Ratings v4.0: Methodology](http://fivethirtyeight.com/features/pollster-ratings-v40-methodology/)\n",
    "* [Pollster Ratings v4.0: Results](http://fivethirtyeight.com/features/pollster-ratings-v40-results/)\n",
    "* [Nate Silver versus Sam Wang](http://www.washingtonpost.com/blogs/plum-line/wp/2014/09/17/nate-silver-versus-sam-wang/)\n",
    "* [More Nate Silver versus Sam Wang](http://www.dailykos.com/story/2014/09/09/1328288/-Get-Ready-To-Rumbllllle-Battle-Of-The-Nerds-Nate-Silver-VS-Sam-Wang)\n",
    "* [Nate Silver explains critisims of Sam Wang](http://politicalwire.com/archives/2014/10/02/nate_silver_rebuts_sam_wang.html)\n",
    "* [Background on the feud between Nate Silver and Sam Wang](http://talkingpointsmemo.com/dc/nate-silver-sam-wang-feud)\n",
    "* [Are there swing voters?]( http://www.stat.columbia.edu/~gelman/research/unpublished/swing_voters.pdf)\n",
    "\n",
    "\n",
    "\n",
    "---"
   ]
  },
  {
   "cell_type": "markdown",
   "metadata": {},
   "source": [
    "## Load Python modules"
   ]
  },
  {
   "cell_type": "code",
   "execution_count": 1,
   "metadata": {
    "collapsed": false
   },
   "outputs": [],
   "source": [
    "# special IPython command to prepare the notebook for matplotlib\n",
    "%matplotlib inline \n",
    "\n",
    "import requests \n",
    "import StringIO\n",
    "import zipfile\n",
    "import numpy as np\n",
    "import pandas as pd # pandas\n",
    "import matplotlib.pyplot as plt # module for plotting \n",
    "\n",
    "# If this module is not already installed, you may need to install it. \n",
    "# You can do this by typing 'pip install seaborn' in the command line\n",
    "import seaborn as sns \n",
    "\n",
    "import sklearn\n",
    "import sklearn.datasets\n",
    "import sklearn.cross_validation\n",
    "import sklearn.decomposition\n",
    "import sklearn.grid_search\n",
    "import sklearn.neighbors\n",
    "import sklearn.metrics"
   ]
  },
  {
   "cell_type": "markdown",
   "metadata": {},
   "source": [
    "# Problem 1: Sabermetrics\n",
    "\n",
    "Using data preceding the 2002 season pick 10 offensive players keeping the payroll under $20 million (assign each player the median salary). Predict how many games this team would win in a 162 game season.  \n",
    "\n",
    "In this problem we will be returning to the [Sean Lahman's Baseball Database](http://seanlahman.com/baseball-archive/statistics) that we used in Homework 1.  From this database, we will be extract five data sets containing information such as yearly stats and standing, batting statistics, fielding statistics, player names, player salaries and biographical information. You will explore the data in this database from before 2002 and create a metric for picking players. "
   ]
  },
  {
   "cell_type": "markdown",
   "metadata": {},
   "source": [
    "#### Problem 1(a) \n",
    "\n",
    "Load in [these CSV files](http://seanlahman.com/files/database/lahman-csv_2014-02-14.zip) from the [Sean Lahman's Baseball Database](http://seanlahman.com/baseball-archive/statistics). For this assignment, we will use the 'Teams.csv', 'Batting.csv', 'Salaries.csv', 'Fielding.csv', 'Master.csv' tables. Read these tables into separate pandas DataFrames with the following names. \n",
    "\n",
    "CSV file name | Name of pandas DataFrame\n",
    ":---: | :---: \n",
    "Teams.csv | teams\n",
    "Batting.csv | players\n",
    "Salaries.csv | salaries\n",
    "Fielding.csv | fielding\n",
    "Master.csv | master"
   ]
  },
  {
   "cell_type": "code",
   "execution_count": 2,
   "metadata": {
    "collapsed": false
   },
   "outputs": [],
   "source": [
    "### Your code here ###\n",
    "r = requests.get('http://seanlahman.com/files/database/baseballdatabank-master_2016-03-02.zip')\n",
    "z = zipfile.ZipFile(StringIO.StringIO(r.content))\n",
    "teams = pd.read_csv(z.open('baseballdatabank-master/core/Teams.csv'))\n",
    "salaries = pd.read_csv(z.open('baseballdatabank-master/core/Salaries.csv'))\n",
    "players = pd.read_csv(z.open('baseballdatabank-master/core/Batting.csv'))\n",
    "fielding = pd.read_csv(z.open('baseballdatabank-master/core/Fielding.csv'))\n",
    "master = pd.read_csv(z.open('baseballdatabank-master/core/Master.csv'))"
   ]
  },
  {
   "cell_type": "markdown",
   "metadata": {},
   "source": [
    "#### Problem 1(b)\n",
    "\n",
    "Calculate the median salary for each player and create a pandas DataFrame called `medianSalaries` with four columns: (1) the player ID, (2) the first name of the player, (3) the last name of the player and (4) the median salary of the player. Show the head of the `medianSalaries` DataFrame.   "
   ]
  },
  {
   "cell_type": "code",
   "execution_count": 3,
   "metadata": {
    "collapsed": false
   },
   "outputs": [
    {
     "data": {
      "text/html": [
       "<div>\n",
       "<table border=\"1\" class=\"dataframe\">\n",
       "  <thead>\n",
       "    <tr style=\"text-align: right;\">\n",
       "      <th></th>\n",
       "      <th>playerID</th>\n",
       "      <th>nameFirst</th>\n",
       "      <th>nameLast</th>\n",
       "      <th>salary</th>\n",
       "    </tr>\n",
       "  </thead>\n",
       "  <tbody>\n",
       "    <tr>\n",
       "      <th>0</th>\n",
       "      <td>aardsda01</td>\n",
       "      <td>David</td>\n",
       "      <td>Aardsma</td>\n",
       "      <td>419000</td>\n",
       "    </tr>\n",
       "    <tr>\n",
       "      <th>1</th>\n",
       "      <td>aasedo01</td>\n",
       "      <td>Don</td>\n",
       "      <td>Aase</td>\n",
       "      <td>612500</td>\n",
       "    </tr>\n",
       "    <tr>\n",
       "      <th>2</th>\n",
       "      <td>abadan01</td>\n",
       "      <td>Andy</td>\n",
       "      <td>Abad</td>\n",
       "      <td>327000</td>\n",
       "    </tr>\n",
       "    <tr>\n",
       "      <th>3</th>\n",
       "      <td>abadfe01</td>\n",
       "      <td>Fernando</td>\n",
       "      <td>Abad</td>\n",
       "      <td>505450</td>\n",
       "    </tr>\n",
       "    <tr>\n",
       "      <th>4</th>\n",
       "      <td>abbotje01</td>\n",
       "      <td>Jeff</td>\n",
       "      <td>Abbott</td>\n",
       "      <td>255000</td>\n",
       "    </tr>\n",
       "  </tbody>\n",
       "</table>\n",
       "</div>"
      ],
      "text/plain": [
       "    playerID nameFirst nameLast  salary\n",
       "0  aardsda01     David  Aardsma  419000\n",
       "1   aasedo01       Don     Aase  612500\n",
       "2   abadan01      Andy     Abad  327000\n",
       "3   abadfe01  Fernando     Abad  505450\n",
       "4  abbotje01      Jeff   Abbott  255000"
      ]
     },
     "execution_count": 3,
     "metadata": {},
     "output_type": "execute_result"
    }
   ],
   "source": [
    "### Your code here ###\n",
    "initmediansalary = master[['playerID', 'nameFirst', 'nameLast']]\n",
    "\n",
    "medsal = salaries['salary'].groupby(salaries['playerID']).median().reset_index()\n",
    "\n",
    "mediansalary = pd.merge(initmediansalary, medsal, on = 'playerID', how = 'inner')\n",
    "mediansalary.head()"
   ]
  },
  {
   "cell_type": "markdown",
   "metadata": {},
   "source": [
    "#### Problem 1(c)\n",
    "\n",
    "Now, consider only team/season combinations in which the teams played 162 Games. Exclude all data from before 1947. Compute the per plate appearance rates for singles, doubles, triples, HR, and BB. Create a new pandas DataFrame called `stats` that has the teamID, yearID, wins and these rates.\n",
    "\n",
    "**Hint**: Singles are hits that are not doubles, triples, nor HR. Plate appearances are base on balls plus at bats."
   ]
  },
  {
   "cell_type": "code",
   "execution_count": 4,
   "metadata": {
    "collapsed": false
   },
   "outputs": [
    {
     "name": "stderr",
     "output_type": "stream",
     "text": [
      "C:\\Users\\Wolf\\Anaconda2\\lib\\site-packages\\ipykernel\\__main__.py:12: SettingWithCopyWarning: \n",
      "A value is trying to be set on a copy of a slice from a DataFrame.\n",
      "Try using .loc[row_indexer,col_indexer] = value instead\n",
      "\n",
      "See the caveats in the documentation: http://pandas.pydata.org/pandas-docs/stable/indexing.html#indexing-view-versus-copy\n",
      "C:\\Users\\Wolf\\Anaconda2\\lib\\site-packages\\ipykernel\\__main__.py:13: SettingWithCopyWarning: \n",
      "A value is trying to be set on a copy of a slice from a DataFrame.\n",
      "Try using .loc[row_indexer,col_indexer] = value instead\n",
      "\n",
      "See the caveats in the documentation: http://pandas.pydata.org/pandas-docs/stable/indexing.html#indexing-view-versus-copy\n",
      "C:\\Users\\Wolf\\Anaconda2\\lib\\site-packages\\ipykernel\\__main__.py:14: SettingWithCopyWarning: \n",
      "A value is trying to be set on a copy of a slice from a DataFrame.\n",
      "Try using .loc[row_indexer,col_indexer] = value instead\n",
      "\n",
      "See the caveats in the documentation: http://pandas.pydata.org/pandas-docs/stable/indexing.html#indexing-view-versus-copy\n",
      "C:\\Users\\Wolf\\Anaconda2\\lib\\site-packages\\ipykernel\\__main__.py:15: SettingWithCopyWarning: \n",
      "A value is trying to be set on a copy of a slice from a DataFrame.\n",
      "Try using .loc[row_indexer,col_indexer] = value instead\n",
      "\n",
      "See the caveats in the documentation: http://pandas.pydata.org/pandas-docs/stable/indexing.html#indexing-view-versus-copy\n",
      "C:\\Users\\Wolf\\Anaconda2\\lib\\site-packages\\ipykernel\\__main__.py:16: SettingWithCopyWarning: \n",
      "A value is trying to be set on a copy of a slice from a DataFrame.\n",
      "Try using .loc[row_indexer,col_indexer] = value instead\n",
      "\n",
      "See the caveats in the documentation: http://pandas.pydata.org/pandas-docs/stable/indexing.html#indexing-view-versus-copy\n",
      "C:\\Users\\Wolf\\Anaconda2\\lib\\site-packages\\ipykernel\\__main__.py:17: SettingWithCopyWarning: \n",
      "A value is trying to be set on a copy of a slice from a DataFrame.\n",
      "Try using .loc[row_indexer,col_indexer] = value instead\n",
      "\n",
      "See the caveats in the documentation: http://pandas.pydata.org/pandas-docs/stable/indexing.html#indexing-view-versus-copy\n",
      "C:\\Users\\Wolf\\Anaconda2\\lib\\site-packages\\ipykernel\\__main__.py:18: SettingWithCopyWarning: \n",
      "A value is trying to be set on a copy of a slice from a DataFrame.\n",
      "Try using .loc[row_indexer,col_indexer] = value instead\n",
      "\n",
      "See the caveats in the documentation: http://pandas.pydata.org/pandas-docs/stable/indexing.html#indexing-view-versus-copy\n"
     ]
    },
    {
     "data": {
      "text/html": [
       "<div>\n",
       "<table border=\"1\" class=\"dataframe\">\n",
       "  <thead>\n",
       "    <tr style=\"text-align: right;\">\n",
       "      <th></th>\n",
       "      <th>teamID</th>\n",
       "      <th>yearID</th>\n",
       "      <th>W</th>\n",
       "      <th>AB</th>\n",
       "      <th>1B</th>\n",
       "      <th>2B</th>\n",
       "      <th>3B</th>\n",
       "      <th>HR</th>\n",
       "      <th>BB</th>\n",
       "    </tr>\n",
       "  </thead>\n",
       "  <tbody>\n",
       "    <tr>\n",
       "      <th>1366</th>\n",
       "      <td>KC1</td>\n",
       "      <td>1961</td>\n",
       "      <td>61</td>\n",
       "      <td>6003</td>\n",
       "      <td>0.164751</td>\n",
       "      <td>0.035982</td>\n",
       "      <td>0.007829</td>\n",
       "      <td>0.014993</td>\n",
       "      <td>0.096618</td>\n",
       "    </tr>\n",
       "    <tr>\n",
       "      <th>1367</th>\n",
       "      <td>LAA</td>\n",
       "      <td>1961</td>\n",
       "      <td>70</td>\n",
       "      <td>6105</td>\n",
       "      <td>0.147748</td>\n",
       "      <td>0.035708</td>\n",
       "      <td>0.003604</td>\n",
       "      <td>0.030958</td>\n",
       "      <td>0.111548</td>\n",
       "    </tr>\n",
       "    <tr>\n",
       "      <th>1377</th>\n",
       "      <td>BAL</td>\n",
       "      <td>1962</td>\n",
       "      <td>77</td>\n",
       "      <td>6007</td>\n",
       "      <td>0.157816</td>\n",
       "      <td>0.037456</td>\n",
       "      <td>0.005660</td>\n",
       "      <td>0.025970</td>\n",
       "      <td>0.085900</td>\n",
       "    </tr>\n",
       "    <tr>\n",
       "      <th>1379</th>\n",
       "      <td>CHA</td>\n",
       "      <td>1962</td>\n",
       "      <td>85</td>\n",
       "      <td>6134</td>\n",
       "      <td>0.165797</td>\n",
       "      <td>0.040756</td>\n",
       "      <td>0.009129</td>\n",
       "      <td>0.014998</td>\n",
       "      <td>0.101076</td>\n",
       "    </tr>\n",
       "    <tr>\n",
       "      <th>1380</th>\n",
       "      <td>CHN</td>\n",
       "      <td>1962</td>\n",
       "      <td>59</td>\n",
       "      <td>6038</td>\n",
       "      <td>0.168930</td>\n",
       "      <td>0.032461</td>\n",
       "      <td>0.009275</td>\n",
       "      <td>0.020868</td>\n",
       "      <td>0.083471</td>\n",
       "    </tr>\n",
       "  </tbody>\n",
       "</table>\n",
       "</div>"
      ],
      "text/plain": [
       "     teamID  yearID   W    AB        1B        2B        3B        HR  \\\n",
       "1366    KC1    1961  61  6003  0.164751  0.035982  0.007829  0.014993   \n",
       "1367    LAA    1961  70  6105  0.147748  0.035708  0.003604  0.030958   \n",
       "1377    BAL    1962  77  6007  0.157816  0.037456  0.005660  0.025970   \n",
       "1379    CHA    1962  85  6134  0.165797  0.040756  0.009129  0.014998   \n",
       "1380    CHN    1962  59  6038  0.168930  0.032461  0.009275  0.020868   \n",
       "\n",
       "            BB  \n",
       "1366  0.096618  \n",
       "1367  0.111548  \n",
       "1377  0.085900  \n",
       "1379  0.101076  \n",
       "1380  0.083471  "
      ]
     },
     "execution_count": 4,
     "metadata": {},
     "output_type": "execute_result"
    }
   ],
   "source": [
    "### Your code here ###\n",
    "### Your code here ###\n",
    "teams1947 = teams[(teams['yearID'] >= 1947) & (teams['G'] == 162)]\n",
    "list(teams1947.columns.values)\n",
    "#teams1947.head()\n",
    "stats = teams1947[['teamID',\n",
    "                   'yearID',\n",
    "                   'W'\n",
    "                  ]]\n",
    "#stats['1B'] = teams1947.apply(lambda row: ((row['H'] - (row['2B'] + row['3B'] + row['HR']))/(row['AB'] + row['BB'])), axis=1)\n",
    "#stats['AB'] = teams1947.apply(lambda row: (row['AB'] + row['BB']), axis=1)\n",
    "stats['AB'] = teams1947[['AB', 'BB']].sum(axis=1)\n",
    "stats['1B'] = teams1947.apply(lambda row: ((row['H'] - (row['2B'] + row['3B'] + row['HR']))), axis=1)\n",
    "stats['1B'] = stats['1B'].div(stats['AB'], axis = 'index')\n",
    "stats['2B'] = teams1947['2B'].div(stats['AB'], axis = 'index')\n",
    "stats['3B'] = teams1947['3B'].div(stats['AB'], axis = 'index')\n",
    "stats['HR'] = teams1947['HR'].div(stats['AB'], axis = 'index')\n",
    "stats['BB'] = teams1947['BB'].div(stats['AB'], axis = 'index')\n",
    "stats.head()"
   ]
  },
  {
   "cell_type": "markdown",
   "metadata": {},
   "source": [
    "#### Problem 1(d)\n",
    "\n",
    "Is there a noticeable time trend in the rates computed computed in Problem 1(c)? "
   ]
  },
  {
   "cell_type": "code",
   "execution_count": 20,
   "metadata": {
    "collapsed": false
   },
   "outputs": [
    {
     "data": {
      "image/png": "[encoded data removed]",
      "text/plain": [
       "<matplotlib.figure.Figure at 0xe3a2518>"
      ]
     },
     "metadata": {},
     "output_type": "display_data"
    }
   ],
   "source": [
    "### Your code here ###\n",
    "for key, grp in stats.groupby(['teamID']): \n",
    "    plt.scatter(grp['yearID'], grp['1B'])    \n",
    "plt.show()"
   ]
  },
  {
   "cell_type": "code",
   "execution_count": 6,
   "metadata": {
    "collapsed": false
   },
   "outputs": [
    {
     "data": {
      "image/png": "[encoded data removed]",
      "text/plain": [
       "<matplotlib.figure.Figure at 0xa485400>"
      ]
     },
     "metadata": {},
     "output_type": "display_data"
    },
    {
     "data": {
      "image/png": "[encoded data removed]",
      "text/plain": [
       "<matplotlib.figure.Figure at 0xde31278>"
      ]
     },
     "metadata": {},
     "output_type": "display_data"
    },
    {
     "data": {
      "image/png": "[encoded data removed]",
      "text/plain": [
       "<matplotlib.figure.Figure at 0xdd71860>"
      ]
     },
     "metadata": {},
     "output_type": "display_data"
    },
    {
     "data": {
      "image/png": "[encoded data removed]",
      "text/plain": [
       "<matplotlib.figure.Figure at 0xd78ef60>"
      ]
     },
     "metadata": {},
     "output_type": "display_data"
    },
    {
     "data": {
      "image/png": "[encoded data removed]",
      "text/plain": [
       "<matplotlib.figure.Figure at 0xe440a20>"
      ]
     },
     "metadata": {},
     "output_type": "display_data"
    },
    {
     "data": {
      "image/png": "[encoded data removed]",
      "text/plain": [
       "<matplotlib.figure.Figure at 0xaadc4e0>"
      ]
     },
     "metadata": {},
     "output_type": "display_data"
    },
    {
     "data": {
      "image/png": "[encoded data removed]",
      "text/plain": [
       "<matplotlib.figure.Figure at 0x126a9908>"
      ]
     },
     "metadata": {},
     "output_type": "display_data"
    }
   ],
   "source": [
    "yearmean = stats.groupby(stats['yearID']).mean().reset_index()\n",
    "yearstd = stats.groupby(stats['yearID']).agg(np.std).reset_index()\n",
    "for i in range(1, 8):\n",
    "    x = yearmean['yearID']\n",
    "    y = yearmean.ix[:,i]\n",
    "    stderr = yearstd.ix[:,i]\n",
    "\n",
    "    plt.plot(x, y, 'k-')\n",
    "    plt.fill_between(x, y+stderr, y-stderr, color='gray')\n",
    "    plt.title(yearmean.columns[i])\n",
    "    plt.show()"
   ]
  },
  {
   "cell_type": "markdown",
   "metadata": {},
   "source": [
    "#### Problem 1(e) \n",
    "\n",
    "Using the `stats` DataFrame from Problem 1(c), adjust the singles per PA rates so that the average across teams for each year is 0. Do the same for the doubles, triples, HR, and BB rates. "
   ]
  },
  {
   "cell_type": "code",
   "execution_count": 7,
   "metadata": {
    "collapsed": false
   },
   "outputs": [
    {
     "data": {
      "text/html": [
       "<div>\n",
       "<table border=\"1\" class=\"dataframe\">\n",
       "  <thead>\n",
       "    <tr style=\"text-align: right;\">\n",
       "      <th></th>\n",
       "      <th>teamID</th>\n",
       "      <th>yearID</th>\n",
       "      <th>W</th>\n",
       "      <th>AB</th>\n",
       "      <th>1B</th>\n",
       "      <th>2B</th>\n",
       "      <th>3B</th>\n",
       "      <th>HR</th>\n",
       "      <th>BB</th>\n",
       "    </tr>\n",
       "  </thead>\n",
       "  <tbody>\n",
       "    <tr>\n",
       "      <th>1366</th>\n",
       "      <td>KC1</td>\n",
       "      <td>1961</td>\n",
       "      <td>-4.500000</td>\n",
       "      <td>-51.000000</td>\n",
       "      <td>0.008502</td>\n",
       "      <td>0.000137</td>\n",
       "      <td>0.002113</td>\n",
       "      <td>-0.007983</td>\n",
       "      <td>-0.007465</td>\n",
       "    </tr>\n",
       "    <tr>\n",
       "      <th>1367</th>\n",
       "      <td>LAA</td>\n",
       "      <td>1961</td>\n",
       "      <td>4.500000</td>\n",
       "      <td>51.000000</td>\n",
       "      <td>-0.008502</td>\n",
       "      <td>-0.000137</td>\n",
       "      <td>-0.002113</td>\n",
       "      <td>0.007983</td>\n",
       "      <td>0.007465</td>\n",
       "    </tr>\n",
       "    <tr>\n",
       "      <th>1377</th>\n",
       "      <td>BAL</td>\n",
       "      <td>1962</td>\n",
       "      <td>-1.454545</td>\n",
       "      <td>-66.545455</td>\n",
       "      <td>-0.007816</td>\n",
       "      <td>0.001604</td>\n",
       "      <td>-0.001117</td>\n",
       "      <td>0.002158</td>\n",
       "      <td>-0.002690</td>\n",
       "    </tr>\n",
       "    <tr>\n",
       "      <th>1379</th>\n",
       "      <td>CHA</td>\n",
       "      <td>1962</td>\n",
       "      <td>6.545455</td>\n",
       "      <td>60.454545</td>\n",
       "      <td>0.000165</td>\n",
       "      <td>0.004904</td>\n",
       "      <td>0.002352</td>\n",
       "      <td>-0.008813</td>\n",
       "      <td>0.012486</td>\n",
       "    </tr>\n",
       "    <tr>\n",
       "      <th>1380</th>\n",
       "      <td>CHN</td>\n",
       "      <td>1962</td>\n",
       "      <td>-19.454545</td>\n",
       "      <td>-35.545455</td>\n",
       "      <td>0.003298</td>\n",
       "      <td>-0.003391</td>\n",
       "      <td>0.002497</td>\n",
       "      <td>-0.002944</td>\n",
       "      <td>-0.005119</td>\n",
       "    </tr>\n",
       "  </tbody>\n",
       "</table>\n",
       "</div>"
      ],
      "text/plain": [
       "     teamID  yearID          W         AB        1B        2B        3B  \\\n",
       "1366    KC1    1961  -4.500000 -51.000000  0.008502  0.000137  0.002113   \n",
       "1367    LAA    1961   4.500000  51.000000 -0.008502 -0.000137 -0.002113   \n",
       "1377    BAL    1962  -1.454545 -66.545455 -0.007816  0.001604 -0.001117   \n",
       "1379    CHA    1962   6.545455  60.454545  0.000165  0.004904  0.002352   \n",
       "1380    CHN    1962 -19.454545 -35.545455  0.003298 -0.003391  0.002497   \n",
       "\n",
       "            HR        BB  \n",
       "1366 -0.007983 -0.007465  \n",
       "1367  0.007983  0.007465  \n",
       "1377  0.002158 -0.002690  \n",
       "1379 -0.008813  0.012486  \n",
       "1380 -0.002944 -0.005119  "
      ]
     },
     "execution_count": 7,
     "metadata": {},
     "output_type": "execute_result"
    }
   ],
   "source": [
    "### Your code here ###\n",
    "demean = lambda df: df - df.mean()\n",
    "intcntrstats = stats.groupby(['yearID']).transform(demean)\n",
    "labelstats = stats[['teamID', 'yearID']]\n",
    "cntrstats = pd.merge(labelstats, intcntrstats, right_index = True, left_index = True)\n",
    "cntrstats.head()"
   ]
  },
  {
   "cell_type": "markdown",
   "metadata": {},
   "source": [
    "#### Problem 1(f)\n",
    "\n",
    "Build a simple linear regression model to predict the number of wins from the average adjusted singles, double, triples, HR, and BB rates. To decide which of these terms to include fit the model to data from 2002 and compute the average squared residuals from predictions to years past 2002. Use the fitted model to define a new sabermetric summary: offensive predicted wins (OPW). Hint: the new summary should be a linear combination of one to five of the five rates.\n"
   ]
  },
  {
   "cell_type": "code",
   "execution_count": 15,
   "metadata": {
    "collapsed": false
   },
   "outputs": [
    {
     "name": "stderr",
     "output_type": "stream",
     "text": [
      "C:\\Users\\Wolf\\Anaconda2\\lib\\site-packages\\pandas\\core\\frame.py:2748: SettingWithCopyWarning: \n",
      "A value is trying to be set on a copy of a slice from a DataFrame\n",
      "\n",
      "See the caveats in the documentation: http://pandas.pydata.org/pandas-docs/stable/indexing.html#indexing-view-versus-copy\n",
      "  **kwargs)\n"
     ]
    },
    {
     "data": {
      "text/html": [
       "<div>\n",
       "<table border=\"1\" class=\"dataframe\">\n",
       "  <thead>\n",
       "    <tr style=\"text-align: right;\">\n",
       "      <th></th>\n",
       "      <th>teamID</th>\n",
       "      <th>yearID</th>\n",
       "      <th>W</th>\n",
       "      <th>AB</th>\n",
       "      <th>Singles</th>\n",
       "      <th>Doubles</th>\n",
       "      <th>Triples</th>\n",
       "      <th>HR</th>\n",
       "      <th>BB</th>\n",
       "    </tr>\n",
       "  </thead>\n",
       "  <tbody>\n",
       "    <tr>\n",
       "      <th>2385</th>\n",
       "      <td>ANA</td>\n",
       "      <td>2002</td>\n",
       "      <td>17.636364</td>\n",
       "      <td>65.5</td>\n",
       "      <td>0.019410</td>\n",
       "      <td>0.006579</td>\n",
       "      <td>0.000028</td>\n",
       "      <td>-0.003525</td>\n",
       "      <td>-0.015199</td>\n",
       "    </tr>\n",
       "    <tr>\n",
       "      <th>2386</th>\n",
       "      <td>ARI</td>\n",
       "      <td>2002</td>\n",
       "      <td>16.636364</td>\n",
       "      <td>76.5</td>\n",
       "      <td>0.002186</td>\n",
       "      <td>-0.001647</td>\n",
       "      <td>0.001481</td>\n",
       "      <td>-0.001456</td>\n",
       "      <td>0.014093</td>\n",
       "    </tr>\n",
       "    <tr>\n",
       "      <th>2388</th>\n",
       "      <td>BAL</td>\n",
       "      <td>2002</td>\n",
       "      <td>-14.363636</td>\n",
       "      <td>-131.5</td>\n",
       "      <td>-0.014438</td>\n",
       "      <td>0.004675</td>\n",
       "      <td>-0.000641</td>\n",
       "      <td>-0.000517</td>\n",
       "      <td>-0.014387</td>\n",
       "    </tr>\n",
       "    <tr>\n",
       "      <th>2389</th>\n",
       "      <td>BOS</td>\n",
       "      <td>2002</td>\n",
       "      <td>11.636364</td>\n",
       "      <td>110.5</td>\n",
       "      <td>0.004542</td>\n",
       "      <td>0.008610</td>\n",
       "      <td>0.000151</td>\n",
       "      <td>0.000337</td>\n",
       "      <td>-0.002326</td>\n",
       "    </tr>\n",
       "    <tr>\n",
       "      <th>2390</th>\n",
       "      <td>CHA</td>\n",
       "      <td>2002</td>\n",
       "      <td>-0.363636</td>\n",
       "      <td>-17.5</td>\n",
       "      <td>-0.002271</td>\n",
       "      <td>0.000058</td>\n",
       "      <td>-0.000396</td>\n",
       "      <td>0.007546</td>\n",
       "      <td>0.001187</td>\n",
       "    </tr>\n",
       "  </tbody>\n",
       "</table>\n",
       "</div>"
      ],
      "text/plain": [
       "     teamID  yearID          W     AB   Singles   Doubles   Triples        HR  \\\n",
       "2385    ANA    2002  17.636364   65.5  0.019410  0.006579  0.000028 -0.003525   \n",
       "2386    ARI    2002  16.636364   76.5  0.002186 -0.001647  0.001481 -0.001456   \n",
       "2388    BAL    2002 -14.363636 -131.5 -0.014438  0.004675 -0.000641 -0.000517   \n",
       "2389    BOS    2002  11.636364  110.5  0.004542  0.008610  0.000151  0.000337   \n",
       "2390    CHA    2002  -0.363636  -17.5 -0.002271  0.000058 -0.000396  0.007546   \n",
       "\n",
       "            BB  \n",
       "2385 -0.015199  \n",
       "2386  0.014093  \n",
       "2388 -0.014387  \n",
       "2389 -0.002326  \n",
       "2390  0.001187  "
      ]
     },
     "execution_count": 15,
     "metadata": {},
     "output_type": "execute_result"
    }
   ],
   "source": [
    "year2002 = cntrstats[cntrstats['yearID'] == 2002]\n",
    "year2002.rename( columns = {'1B':'Singles', '2B':'Doubles', '3B':'Triples'}, inplace = True)\n",
    "year2002.head()"
   ]
  },
  {
   "cell_type": "code",
   "execution_count": 21,
   "metadata": {
    "collapsed": false
   },
   "outputs": [
    {
     "data": {
      "image/png": "[encoded data removed]",
      "text/plain": [
       "<matplotlib.figure.Figure at 0x62df8d0>"
      ]
     },
     "metadata": {},
     "output_type": "display_data"
    },
    {
     "data": {
      "image/png": "[encoded data removed]",
      "text/plain": [
       "<matplotlib.figure.Figure at 0x126f7e10>"
      ]
     },
     "metadata": {},
     "output_type": "display_data"
    },
    {
     "data": {
      "image/png": "[encoded data removed]",
      "text/plain": [
       "<matplotlib.figure.Figure at 0x1285a7b8>"
      ]
     },
     "metadata": {},
     "output_type": "display_data"
    },
    {
     "data": {
      "image/png": "[encoded data removed]",
      "text/plain": [
       "<matplotlib.figure.Figure at 0xe0b7198>"
      ]
     },
     "metadata": {},
     "output_type": "display_data"
    },
    {
     "data": {
      "image/png": "[encoded data removed]",
      "text/plain": [
       "<matplotlib.figure.Figure at 0xaca3780>"
      ]
     },
     "metadata": {},
     "output_type": "display_data"
    },
    {
     "data": {
      "image/png": "[encoded data removed]",
      "text/plain": [
       "<matplotlib.figure.Figure at 0xe35d2e8>"
      ]
     },
     "metadata": {},
     "output_type": "display_data"
    }
   ],
   "source": [
    "### Your code here ###\n",
    "from sklearn import datasets, linear_model\n",
    "\n",
    "for i in range(3, 9):\n",
    "    y = year2002.ix[:,i]\n",
    "    x = year2002[['W']]\n",
    "\n",
    "    regr = linear_model.LinearRegression()\n",
    "    regr.fit(x, y)\n",
    "    plt.scatter(x, y,  color='black')\n",
    "    plt.plot(x, regr.predict(x), color='blue', linewidth=3)\n",
    "    plt.title(year2002.columns[i])\n",
    "    plt.show()"
   ]
  },
  {
   "cell_type": "code",
   "execution_count": 19,
   "metadata": {
    "collapsed": false
   },
   "outputs": [
    {
     "name": "stdout",
     "output_type": "stream",
     "text": [
      "                            OLS Regression Results                            \n",
      "==============================================================================\n",
      "Dep. Variable:                      W   R-squared:                       0.558\n",
      "Model:                            OLS   Adj. R-squared:                  0.381\n",
      "Method:                 Least Squares   F-statistic:                     3.151\n",
      "Date:                Sat, 08 Oct 2016   Prob (F-statistic):             0.0333\n",
      "Time:                        21:55:55   Log-Likelihood:                -78.877\n",
      "No. Observations:                  22   AIC:                             171.8\n",
      "Df Residuals:                      15   BIC:                             179.4\n",
      "Df Model:                           6                                         \n",
      "Covariance Type:            nonrobust                                         \n",
      "==============================================================================\n",
      "                 coef    std err          t      P>|t|      [95.0% Conf. Int.]\n",
      "------------------------------------------------------------------------------\n",
      "Intercept   3.997e-15      2.253   1.77e-15      1.000        -4.802     4.802\n",
      "AB             0.0152      0.051      0.298      0.770        -0.094     0.124\n",
      "Singles      911.7724    395.612      2.305      0.036        68.545  1755.000\n",
      "Doubles     1307.8178    821.727      1.592      0.132      -443.652  3059.287\n",
      "Triples    -2143.3643   2851.883     -0.752      0.464     -8222.010  3935.281\n",
      "HR           951.6131    773.653      1.230      0.238      -697.390  2600.616\n",
      "BB           641.9795    438.779      1.463      0.164      -293.255  1577.214\n",
      "==============================================================================\n",
      "Omnibus:                        0.380   Durbin-Watson:                   2.554\n",
      "Prob(Omnibus):                  0.827   Jarque-Bera (JB):                0.073\n",
      "Skew:                           0.139   Prob(JB):                        0.964\n",
      "Kurtosis:                       2.954   Cond. No.                     9.71e+04\n",
      "==============================================================================\n",
      "\n",
      "Warnings:\n",
      "[1] Standard Errors assume that the covariance matrix of the errors is correctly specified.\n",
      "[2] The condition number is large, 9.71e+04. This might indicate that there are\n",
      "strong multicollinearity or other numerical problems.\n"
     ]
    }
   ],
   "source": [
    "import statsmodels.formula.api as sm\n",
    "result = sm.ols(formula=\"W ~ (AB + Singles + Doubles + Triples + HR + BB)\", data=year2002).fit()\n",
    "result.params\n",
    "print result.summary()"
   ]
  },
  {
   "cell_type": "code",
   "execution_count": 37,
   "metadata": {
    "collapsed": false
   },
   "outputs": [
    {
     "data": {
      "text/html": [
       "<div>\n",
       "<table border=\"1\" class=\"dataframe\">\n",
       "  <thead>\n",
       "    <tr style=\"text-align: right;\">\n",
       "      <th></th>\n",
       "      <th>teamID</th>\n",
       "      <th>yearID</th>\n",
       "      <th>W</th>\n",
       "      <th>AB</th>\n",
       "      <th>1B</th>\n",
       "      <th>2B</th>\n",
       "      <th>3B</th>\n",
       "      <th>HR</th>\n",
       "      <th>BB</th>\n",
       "    </tr>\n",
       "  </thead>\n",
       "  <tbody>\n",
       "    <tr>\n",
       "      <th>1366</th>\n",
       "      <td>KC1</td>\n",
       "      <td>1961</td>\n",
       "      <td>-4.500000</td>\n",
       "      <td>-51.000000</td>\n",
       "      <td>0.008502</td>\n",
       "      <td>0.000137</td>\n",
       "      <td>0.002113</td>\n",
       "      <td>-0.007983</td>\n",
       "      <td>-0.007465</td>\n",
       "    </tr>\n",
       "    <tr>\n",
       "      <th>1367</th>\n",
       "      <td>LAA</td>\n",
       "      <td>1961</td>\n",
       "      <td>4.500000</td>\n",
       "      <td>51.000000</td>\n",
       "      <td>-0.008502</td>\n",
       "      <td>-0.000137</td>\n",
       "      <td>-0.002113</td>\n",
       "      <td>0.007983</td>\n",
       "      <td>0.007465</td>\n",
       "    </tr>\n",
       "    <tr>\n",
       "      <th>1377</th>\n",
       "      <td>BAL</td>\n",
       "      <td>1962</td>\n",
       "      <td>-1.454545</td>\n",
       "      <td>-66.545455</td>\n",
       "      <td>-0.007816</td>\n",
       "      <td>0.001604</td>\n",
       "      <td>-0.001117</td>\n",
       "      <td>0.002158</td>\n",
       "      <td>-0.002690</td>\n",
       "    </tr>\n",
       "    <tr>\n",
       "      <th>1379</th>\n",
       "      <td>CHA</td>\n",
       "      <td>1962</td>\n",
       "      <td>6.545455</td>\n",
       "      <td>60.454545</td>\n",
       "      <td>0.000165</td>\n",
       "      <td>0.004904</td>\n",
       "      <td>0.002352</td>\n",
       "      <td>-0.008813</td>\n",
       "      <td>0.012486</td>\n",
       "    </tr>\n",
       "    <tr>\n",
       "      <th>1380</th>\n",
       "      <td>CHN</td>\n",
       "      <td>1962</td>\n",
       "      <td>-19.454545</td>\n",
       "      <td>-35.545455</td>\n",
       "      <td>0.003298</td>\n",
       "      <td>-0.003391</td>\n",
       "      <td>0.002497</td>\n",
       "      <td>-0.002944</td>\n",
       "      <td>-0.005119</td>\n",
       "    </tr>\n",
       "  </tbody>\n",
       "</table>\n",
       "</div>"
      ],
      "text/plain": [
       "     teamID  yearID          W         AB        1B        2B        3B  \\\n",
       "1366    KC1    1961  -4.500000 -51.000000  0.008502  0.000137  0.002113   \n",
       "1367    LAA    1961   4.500000  51.000000 -0.008502 -0.000137 -0.002113   \n",
       "1377    BAL    1962  -1.454545 -66.545455 -0.007816  0.001604 -0.001117   \n",
       "1379    CHA    1962   6.545455  60.454545  0.000165  0.004904  0.002352   \n",
       "1380    CHN    1962 -19.454545 -35.545455  0.003298 -0.003391  0.002497   \n",
       "\n",
       "            HR        BB  \n",
       "1366 -0.007983 -0.007465  \n",
       "1367  0.007983  0.007465  \n",
       "1377  0.002158 -0.002690  \n",
       "1379 -0.008813  0.012486  \n",
       "1380 -0.002944 -0.005119  "
      ]
     },
     "execution_count": 37,
     "metadata": {},
     "output_type": "execute_result"
    }
   ],
   "source": [
    "cntrstats.head()"
   ]
  },
  {
   "cell_type": "code",
   "execution_count": 38,
   "metadata": {
    "collapsed": false
   },
   "outputs": [
    {
     "name": "stdout",
     "output_type": "stream",
     "text": [
      "(662L, 5L)\n",
      "(380L, 5L)\n",
      "(662L, 1L)\n",
      "(380L, 1L)\n",
      "Mean squared error: 83.88\n"
     ]
    }
   ],
   "source": [
    "from sklearn import linear_model\n",
    "clf = linear_model.LinearRegression()\n",
    "\n",
    "stat_train = cntrstats[cntrstats.yearID < 2002]\n",
    "stat_test = cntrstats[cntrstats.yearID >= 2002]\n",
    "\n",
    "X_train = stat_train[['1B','2B','3B','HR','BB']].values\n",
    "X_test = stat_test[['1B','2B','3B','HR','BB']].values\n",
    "\n",
    "Y_train = stat_train[['W']].values\n",
    "Y_test = stat_test[['W']].values\n",
    "\n",
    "clf.fit(X_train, Y_train)\n",
    "clf.coef_\n",
    "\n",
    "print X_train.shape\n",
    "print X_test.shape\n",
    "print Y_train.shape\n",
    "print Y_test.shape\n",
    "print(\"Mean squared error: %.2f\"\n",
    "      % np.mean((Y_test - clf.predict(X_test)) ** 2))"
   ]
  },
  {
   "cell_type": "markdown",
   "metadata": {},
   "source": [
    "** Your answer here: **"
   ]
  },
  {
   "cell_type": "markdown",
   "metadata": {},
   "source": [
    "#### Problem 1(g)\n",
    "\n",
    "Now we will create a similar database for individual players. Consider only player/year combinations in which the player had at least 500 plate appearances. Consider only the years we considered for the calculations above (after 1947 and seasons with 162 games). For each player/year compute singles, doubles, triples, HR, BB per plate appearance rates. Create a new pandas DataFrame called `playerstats` that has the playerID, yearID and the rates of these stats.  Remove the average for each year as for these rates as done in Problem 1(e). "
   ]
  },
  {
   "cell_type": "code",
   "execution_count": 41,
   "metadata": {
    "collapsed": false
   },
   "outputs": [
    {
     "data": {
      "text/plain": [
       "['playerID',\n",
       " 'yearID',\n",
       " 'stint',\n",
       " 'teamID',\n",
       " 'lgID',\n",
       " 'G',\n",
       " 'AB',\n",
       " 'R',\n",
       " 'H',\n",
       " '2B',\n",
       " '3B',\n",
       " 'HR',\n",
       " 'RBI',\n",
       " 'SB',\n",
       " 'CS',\n",
       " 'BB',\n",
       " 'SO',\n",
       " 'IBB',\n",
       " 'HBP',\n",
       " 'SH',\n",
       " 'SF',\n",
       " 'GIDP']"
      ]
     },
     "execution_count": 41,
     "metadata": {},
     "output_type": "execute_result"
    }
   ],
   "source": [
    "### Your code here ###\n",
    "list(players.columns.values)"
   ]
  },
  {
   "cell_type": "code",
   "execution_count": 104,
   "metadata": {
    "collapsed": false
   },
   "outputs": [
    {
     "name": "stderr",
     "output_type": "stream",
     "text": [
      "C:\\Users\\Wolf\\Anaconda2\\lib\\site-packages\\ipykernel\\__main__.py:5: SettingWithCopyWarning: \n",
      "A value is trying to be set on a copy of a slice from a DataFrame.\n",
      "Try using .loc[row_indexer,col_indexer] = value instead\n",
      "\n",
      "See the caveats in the documentation: http://pandas.pydata.org/pandas-docs/stable/indexing.html#indexing-view-versus-copy\n",
      "C:\\Users\\Wolf\\Anaconda2\\lib\\site-packages\\ipykernel\\__main__.py:6: SettingWithCopyWarning: \n",
      "A value is trying to be set on a copy of a slice from a DataFrame.\n",
      "Try using .loc[row_indexer,col_indexer] = value instead\n",
      "\n",
      "See the caveats in the documentation: http://pandas.pydata.org/pandas-docs/stable/indexing.html#indexing-view-versus-copy\n",
      "C:\\Users\\Wolf\\Anaconda2\\lib\\site-packages\\ipykernel\\__main__.py:7: SettingWithCopyWarning: \n",
      "A value is trying to be set on a copy of a slice from a DataFrame.\n",
      "Try using .loc[row_indexer,col_indexer] = value instead\n",
      "\n",
      "See the caveats in the documentation: http://pandas.pydata.org/pandas-docs/stable/indexing.html#indexing-view-versus-copy\n",
      "C:\\Users\\Wolf\\Anaconda2\\lib\\site-packages\\ipykernel\\__main__.py:8: SettingWithCopyWarning: \n",
      "A value is trying to be set on a copy of a slice from a DataFrame.\n",
      "Try using .loc[row_indexer,col_indexer] = value instead\n",
      "\n",
      "See the caveats in the documentation: http://pandas.pydata.org/pandas-docs/stable/indexing.html#indexing-view-versus-copy\n",
      "C:\\Users\\Wolf\\Anaconda2\\lib\\site-packages\\ipykernel\\__main__.py:9: SettingWithCopyWarning: \n",
      "A value is trying to be set on a copy of a slice from a DataFrame.\n",
      "Try using .loc[row_indexer,col_indexer] = value instead\n",
      "\n",
      "See the caveats in the documentation: http://pandas.pydata.org/pandas-docs/stable/indexing.html#indexing-view-versus-copy\n",
      "C:\\Users\\Wolf\\Anaconda2\\lib\\site-packages\\ipykernel\\__main__.py:10: SettingWithCopyWarning: \n",
      "A value is trying to be set on a copy of a slice from a DataFrame.\n",
      "Try using .loc[row_indexer,col_indexer] = value instead\n",
      "\n",
      "See the caveats in the documentation: http://pandas.pydata.org/pandas-docs/stable/indexing.html#indexing-view-versus-copy\n",
      "C:\\Users\\Wolf\\Anaconda2\\lib\\site-packages\\ipykernel\\__main__.py:11: SettingWithCopyWarning: \n",
      "A value is trying to be set on a copy of a slice from a DataFrame.\n",
      "Try using .loc[row_indexer,col_indexer] = value instead\n",
      "\n",
      "See the caveats in the documentation: http://pandas.pydata.org/pandas-docs/stable/indexing.html#indexing-view-versus-copy\n"
     ]
    },
    {
     "data": {
      "text/html": [
       "<div>\n",
       "<table border=\"1\" class=\"dataframe\">\n",
       "  <thead>\n",
       "    <tr style=\"text-align: right;\">\n",
       "      <th></th>\n",
       "      <th>playerID</th>\n",
       "      <th>yearID</th>\n",
       "      <th>PA</th>\n",
       "      <th>1B</th>\n",
       "      <th>2B</th>\n",
       "      <th>3B</th>\n",
       "      <th>HR</th>\n",
       "      <th>BB</th>\n",
       "    </tr>\n",
       "  </thead>\n",
       "  <tbody>\n",
       "    <tr>\n",
       "      <th>32732</th>\n",
       "      <td>abernwo01</td>\n",
       "      <td>1947</td>\n",
       "      <td>0.0</td>\n",
       "      <td>NaN</td>\n",
       "      <td>NaN</td>\n",
       "      <td>NaN</td>\n",
       "      <td>NaN</td>\n",
       "      <td>NaN</td>\n",
       "    </tr>\n",
       "    <tr>\n",
       "      <th>32733</th>\n",
       "      <td>aberscl01</td>\n",
       "      <td>1947</td>\n",
       "      <td>160.0</td>\n",
       "      <td>0.162500</td>\n",
       "      <td>0.037500</td>\n",
       "      <td>0.018750</td>\n",
       "      <td>0.025000</td>\n",
       "      <td>0.125000</td>\n",
       "    </tr>\n",
       "    <tr>\n",
       "      <th>32734</th>\n",
       "      <td>adamsbo03</td>\n",
       "      <td>1947</td>\n",
       "      <td>242.0</td>\n",
       "      <td>0.173554</td>\n",
       "      <td>0.045455</td>\n",
       "      <td>0.008264</td>\n",
       "      <td>0.016529</td>\n",
       "      <td>0.103306</td>\n",
       "    </tr>\n",
       "    <tr>\n",
       "      <th>32735</th>\n",
       "      <td>adamsbu01</td>\n",
       "      <td>1947</td>\n",
       "      <td>208.0</td>\n",
       "      <td>0.149038</td>\n",
       "      <td>0.052885</td>\n",
       "      <td>0.004808</td>\n",
       "      <td>0.009615</td>\n",
       "      <td>0.125000</td>\n",
       "    </tr>\n",
       "    <tr>\n",
       "      <th>32736</th>\n",
       "      <td>adamsdi01</td>\n",
       "      <td>1947</td>\n",
       "      <td>91.0</td>\n",
       "      <td>0.120879</td>\n",
       "      <td>0.021978</td>\n",
       "      <td>0.032967</td>\n",
       "      <td>0.021978</td>\n",
       "      <td>0.021978</td>\n",
       "    </tr>\n",
       "  </tbody>\n",
       "</table>\n",
       "</div>"
      ],
      "text/plain": [
       "        playerID  yearID     PA        1B        2B        3B        HR  \\\n",
       "32732  abernwo01    1947    0.0       NaN       NaN       NaN       NaN   \n",
       "32733  aberscl01    1947  160.0  0.162500  0.037500  0.018750  0.025000   \n",
       "32734  adamsbo03    1947  242.0  0.173554  0.045455  0.008264  0.016529   \n",
       "32735  adamsbu01    1947  208.0  0.149038  0.052885  0.004808  0.009615   \n",
       "32736  adamsdi01    1947   91.0  0.120879  0.021978  0.032967  0.021978   \n",
       "\n",
       "             BB  \n",
       "32732       NaN  \n",
       "32733  0.125000  \n",
       "32734  0.103306  \n",
       "32735  0.125000  \n",
       "32736  0.021978  "
      ]
     },
     "execution_count": 104,
     "metadata": {},
     "output_type": "execute_result"
    }
   ],
   "source": [
    "players1947 = players[(players['yearID'] >= 1947)]\n",
    "playerstats = players1947[['playerID', 'yearID']]\n",
    "#came back later and decided to remove 162 game limit, as only 3 players popped out for the end analysis\n",
    "\n",
    "playerstats['PA'] = players1947[['AB', 'BB']].sum(axis=1)\n",
    "playerstats['1B'] = players1947.apply(lambda row: ((row['H'] - (row['2B'] + row['3B'] + row['HR']))), axis=1)\n",
    "playerstats['1B'] = playerstats['1B'].div(playerstats['PA'], axis = 'index')\n",
    "playerstats['2B'] = players1947['2B'].div(playerstats['PA'], axis = 'index')\n",
    "playerstats['3B'] = players1947['3B'].div(playerstats['PA'], axis = 'index')\n",
    "playerstats['HR'] = players1947['HR'].div(playerstats['PA'], axis = 'index')\n",
    "playerstats['BB'] = players1947['BB'].div(playerstats['PA'], axis = 'index')\n",
    "\n",
    "playerstats.head()"
   ]
  },
  {
   "cell_type": "code",
   "execution_count": 103,
   "metadata": {
    "collapsed": false
   },
   "outputs": [
    {
     "data": {
      "text/html": [
       "<div>\n",
       "<table border=\"1\" class=\"dataframe\">\n",
       "  <thead>\n",
       "    <tr style=\"text-align: right;\">\n",
       "      <th></th>\n",
       "      <th>playerID</th>\n",
       "      <th>yearID</th>\n",
       "      <th>PA</th>\n",
       "      <th>1B</th>\n",
       "      <th>2B</th>\n",
       "      <th>3B</th>\n",
       "      <th>HR</th>\n",
       "      <th>BB</th>\n",
       "    </tr>\n",
       "  </thead>\n",
       "  <tbody>\n",
       "    <tr>\n",
       "      <th>32739</th>\n",
       "      <td>applilu01</td>\n",
       "      <td>1947</td>\n",
       "      <td>567.0</td>\n",
       "      <td>0.206349</td>\n",
       "      <td>0.051146</td>\n",
       "      <td>0.000000</td>\n",
       "      <td>0.014109</td>\n",
       "      <td>0.112875</td>\n",
       "    </tr>\n",
       "    <tr>\n",
       "      <th>32752</th>\n",
       "      <td>baumhfr01</td>\n",
       "      <td>1947</td>\n",
       "      <td>699.0</td>\n",
       "      <td>0.194564</td>\n",
       "      <td>0.045780</td>\n",
       "      <td>0.012876</td>\n",
       "      <td>0.007153</td>\n",
       "      <td>0.080114</td>\n",
       "    </tr>\n",
       "    <tr>\n",
       "      <th>32774</th>\n",
       "      <td>boudrlo01</td>\n",
       "      <td>1947</td>\n",
       "      <td>605.0</td>\n",
       "      <td>0.186777</td>\n",
       "      <td>0.074380</td>\n",
       "      <td>0.004959</td>\n",
       "      <td>0.006612</td>\n",
       "      <td>0.110744</td>\n",
       "    </tr>\n",
       "    <tr>\n",
       "      <th>32799</th>\n",
       "      <td>cavarph01</td>\n",
       "      <td>1947</td>\n",
       "      <td>517.0</td>\n",
       "      <td>0.222437</td>\n",
       "      <td>0.042553</td>\n",
       "      <td>0.009671</td>\n",
       "      <td>0.003868</td>\n",
       "      <td>0.112186</td>\n",
       "    </tr>\n",
       "    <tr>\n",
       "      <th>32802</th>\n",
       "      <td>chapmsa01</td>\n",
       "      <td>1947</td>\n",
       "      <td>616.0</td>\n",
       "      <td>0.165584</td>\n",
       "      <td>0.029221</td>\n",
       "      <td>0.008117</td>\n",
       "      <td>0.022727</td>\n",
       "      <td>0.105519</td>\n",
       "    </tr>\n",
       "    <tr>\n",
       "      <th>32817</th>\n",
       "      <td>coopewa01</td>\n",
       "      <td>1947</td>\n",
       "      <td>539.0</td>\n",
       "      <td>0.166976</td>\n",
       "      <td>0.044527</td>\n",
       "      <td>0.014842</td>\n",
       "      <td>0.064935</td>\n",
       "      <td>0.044527</td>\n",
       "    </tr>\n",
       "    <tr>\n",
       "      <th>32818</th>\n",
       "      <td>coxbi02</td>\n",
       "      <td>1947</td>\n",
       "      <td>558.0</td>\n",
       "      <td>0.166667</td>\n",
       "      <td>0.053763</td>\n",
       "      <td>0.012545</td>\n",
       "      <td>0.026882</td>\n",
       "      <td>0.051971</td>\n",
       "    </tr>\n",
       "    <tr>\n",
       "      <th>32825</th>\n",
       "      <td>cullero01</td>\n",
       "      <td>1947</td>\n",
       "      <td>601.0</td>\n",
       "      <td>0.101498</td>\n",
       "      <td>0.029950</td>\n",
       "      <td>0.001664</td>\n",
       "      <td>0.039933</td>\n",
       "      <td>0.227953</td>\n",
       "    </tr>\n",
       "    <tr>\n",
       "      <th>32835</th>\n",
       "      <td>dillibo01</td>\n",
       "      <td>1947</td>\n",
       "      <td>627.0</td>\n",
       "      <td>0.216906</td>\n",
       "      <td>0.036683</td>\n",
       "      <td>0.009569</td>\n",
       "      <td>0.004785</td>\n",
       "      <td>0.089314</td>\n",
       "    </tr>\n",
       "    <tr>\n",
       "      <th>32836</th>\n",
       "      <td>dimagdo01</td>\n",
       "      <td>1947</td>\n",
       "      <td>587.0</td>\n",
       "      <td>0.189097</td>\n",
       "      <td>0.035775</td>\n",
       "      <td>0.008518</td>\n",
       "      <td>0.013629</td>\n",
       "      <td>0.126065</td>\n",
       "    </tr>\n",
       "    <tr>\n",
       "      <th>32837</th>\n",
       "      <td>dimagjo01</td>\n",
       "      <td>1947</td>\n",
       "      <td>598.0</td>\n",
       "      <td>0.178930</td>\n",
       "      <td>0.051839</td>\n",
       "      <td>0.016722</td>\n",
       "      <td>0.033445</td>\n",
       "      <td>0.107023</td>\n",
       "    </tr>\n",
       "    <tr>\n",
       "      <th>32841</th>\n",
       "      <td>doerrbo01</td>\n",
       "      <td>1947</td>\n",
       "      <td>620.0</td>\n",
       "      <td>0.153226</td>\n",
       "      <td>0.037097</td>\n",
       "      <td>0.016129</td>\n",
       "      <td>0.027419</td>\n",
       "      <td>0.095161</td>\n",
       "    </tr>\n",
       "    <tr>\n",
       "      <th>32849</th>\n",
       "      <td>edwarbr01</td>\n",
       "      <td>1947</td>\n",
       "      <td>520.0</td>\n",
       "      <td>0.205769</td>\n",
       "      <td>0.028846</td>\n",
       "      <td>0.015385</td>\n",
       "      <td>0.017308</td>\n",
       "      <td>0.094231</td>\n",
       "    </tr>\n",
       "    <tr>\n",
       "      <th>32851</th>\n",
       "      <td>elliobo01</td>\n",
       "      <td>1947</td>\n",
       "      <td>642.0</td>\n",
       "      <td>0.177570</td>\n",
       "      <td>0.054517</td>\n",
       "      <td>0.007788</td>\n",
       "      <td>0.034268</td>\n",
       "      <td>0.135514</td>\n",
       "    </tr>\n",
       "    <tr>\n",
       "      <th>32854</th>\n",
       "      <td>ennisde01</td>\n",
       "      <td>1947</td>\n",
       "      <td>578.0</td>\n",
       "      <td>0.183391</td>\n",
       "      <td>0.043253</td>\n",
       "      <td>0.010381</td>\n",
       "      <td>0.020761</td>\n",
       "      <td>0.064014</td>\n",
       "    </tr>\n",
       "    <tr>\n",
       "      <th>32860</th>\n",
       "      <td>eversho01</td>\n",
       "      <td>1947</td>\n",
       "      <td>505.0</td>\n",
       "      <td>0.192079</td>\n",
       "      <td>0.047525</td>\n",
       "      <td>0.009901</td>\n",
       "      <td>0.019802</td>\n",
       "      <td>0.089109</td>\n",
       "    </tr>\n",
       "    <tr>\n",
       "      <th>32861</th>\n",
       "      <td>fainfe01</td>\n",
       "      <td>1947</td>\n",
       "      <td>556.0</td>\n",
       "      <td>0.167266</td>\n",
       "      <td>0.050360</td>\n",
       "      <td>0.010791</td>\n",
       "      <td>0.012590</td>\n",
       "      <td>0.170863</td>\n",
       "    </tr>\n",
       "    <tr>\n",
       "      <th>32894</th>\n",
       "      <td>gordojo01</td>\n",
       "      <td>1947</td>\n",
       "      <td>624.0</td>\n",
       "      <td>0.145833</td>\n",
       "      <td>0.043269</td>\n",
       "      <td>0.009615</td>\n",
       "      <td>0.046474</td>\n",
       "      <td>0.099359</td>\n",
       "    </tr>\n",
       "    <tr>\n",
       "      <th>32898</th>\n",
       "      <td>greenha01</td>\n",
       "      <td>1947</td>\n",
       "      <td>506.0</td>\n",
       "      <td>0.118577</td>\n",
       "      <td>0.025692</td>\n",
       "      <td>0.003953</td>\n",
       "      <td>0.049407</td>\n",
       "      <td>0.205534</td>\n",
       "    </tr>\n",
       "    <tr>\n",
       "      <th>32908</th>\n",
       "      <td>gustifr01</td>\n",
       "      <td>1947</td>\n",
       "      <td>679.0</td>\n",
       "      <td>0.203240</td>\n",
       "      <td>0.044183</td>\n",
       "      <td>0.008837</td>\n",
       "      <td>0.013255</td>\n",
       "      <td>0.092784</td>\n",
       "    </tr>\n",
       "  </tbody>\n",
       "</table>\n",
       "</div>"
      ],
      "text/plain": [
       "        playerID  yearID     PA        1B        2B        3B        HR  \\\n",
       "32739  applilu01    1947  567.0  0.206349  0.051146  0.000000  0.014109   \n",
       "32752  baumhfr01    1947  699.0  0.194564  0.045780  0.012876  0.007153   \n",
       "32774  boudrlo01    1947  605.0  0.186777  0.074380  0.004959  0.006612   \n",
       "32799  cavarph01    1947  517.0  0.222437  0.042553  0.009671  0.003868   \n",
       "32802  chapmsa01    1947  616.0  0.165584  0.029221  0.008117  0.022727   \n",
       "32817  coopewa01    1947  539.0  0.166976  0.044527  0.014842  0.064935   \n",
       "32818    coxbi02    1947  558.0  0.166667  0.053763  0.012545  0.026882   \n",
       "32825  cullero01    1947  601.0  0.101498  0.029950  0.001664  0.039933   \n",
       "32835  dillibo01    1947  627.0  0.216906  0.036683  0.009569  0.004785   \n",
       "32836  dimagdo01    1947  587.0  0.189097  0.035775  0.008518  0.013629   \n",
       "32837  dimagjo01    1947  598.0  0.178930  0.051839  0.016722  0.033445   \n",
       "32841  doerrbo01    1947  620.0  0.153226  0.037097  0.016129  0.027419   \n",
       "32849  edwarbr01    1947  520.0  0.205769  0.028846  0.015385  0.017308   \n",
       "32851  elliobo01    1947  642.0  0.177570  0.054517  0.007788  0.034268   \n",
       "32854  ennisde01    1947  578.0  0.183391  0.043253  0.010381  0.020761   \n",
       "32860  eversho01    1947  505.0  0.192079  0.047525  0.009901  0.019802   \n",
       "32861   fainfe01    1947  556.0  0.167266  0.050360  0.010791  0.012590   \n",
       "32894  gordojo01    1947  624.0  0.145833  0.043269  0.009615  0.046474   \n",
       "32898  greenha01    1947  506.0  0.118577  0.025692  0.003953  0.049407   \n",
       "32908  gustifr01    1947  679.0  0.203240  0.044183  0.008837  0.013255   \n",
       "\n",
       "             BB  \n",
       "32739  0.112875  \n",
       "32752  0.080114  \n",
       "32774  0.110744  \n",
       "32799  0.112186  \n",
       "32802  0.105519  \n",
       "32817  0.044527  \n",
       "32818  0.051971  \n",
       "32825  0.227953  \n",
       "32835  0.089314  \n",
       "32836  0.126065  \n",
       "32837  0.107023  \n",
       "32841  0.095161  \n",
       "32849  0.094231  \n",
       "32851  0.135514  \n",
       "32854  0.064014  \n",
       "32860  0.089109  \n",
       "32861  0.170863  \n",
       "32894  0.099359  \n",
       "32898  0.205534  \n",
       "32908  0.092784  "
      ]
     },
     "execution_count": 103,
     "metadata": {},
     "output_type": "execute_result"
    }
   ],
   "source": [
    "fplayerstats = playerstats[playerstats['PA'] >= 500]\n",
    "fplayerstats.head(20)"
   ]
  },
  {
   "cell_type": "markdown",
   "metadata": {},
   "source": [
    "Show the head of the `playerstats` DataFrame. "
   ]
  },
  {
   "cell_type": "code",
   "execution_count": 105,
   "metadata": {
    "collapsed": false
   },
   "outputs": [
    {
     "data": {
      "text/html": [
       "<div>\n",
       "<table border=\"1\" class=\"dataframe\">\n",
       "  <thead>\n",
       "    <tr style=\"text-align: right;\">\n",
       "      <th></th>\n",
       "      <th>playerID</th>\n",
       "      <th>yearID</th>\n",
       "      <th>PA</th>\n",
       "      <th>1B</th>\n",
       "      <th>2B</th>\n",
       "      <th>3B</th>\n",
       "      <th>HR</th>\n",
       "      <th>BB</th>\n",
       "    </tr>\n",
       "  </thead>\n",
       "  <tbody>\n",
       "    <tr>\n",
       "      <th>32739</th>\n",
       "      <td>applilu01</td>\n",
       "      <td>1947</td>\n",
       "      <td>-27.546667</td>\n",
       "      <td>0.028093</td>\n",
       "      <td>0.008961</td>\n",
       "      <td>-0.010476</td>\n",
       "      <td>-0.006639</td>\n",
       "      <td>0.007466</td>\n",
       "    </tr>\n",
       "    <tr>\n",
       "      <th>32752</th>\n",
       "      <td>baumhfr01</td>\n",
       "      <td>1947</td>\n",
       "      <td>104.453333</td>\n",
       "      <td>0.016308</td>\n",
       "      <td>0.003595</td>\n",
       "      <td>0.002399</td>\n",
       "      <td>-0.013595</td>\n",
       "      <td>-0.025294</td>\n",
       "    </tr>\n",
       "    <tr>\n",
       "      <th>32774</th>\n",
       "      <td>boudrlo01</td>\n",
       "      <td>1947</td>\n",
       "      <td>10.453333</td>\n",
       "      <td>0.008521</td>\n",
       "      <td>0.032195</td>\n",
       "      <td>-0.005518</td>\n",
       "      <td>-0.014136</td>\n",
       "      <td>0.005335</td>\n",
       "    </tr>\n",
       "    <tr>\n",
       "      <th>32799</th>\n",
       "      <td>cavarph01</td>\n",
       "      <td>1947</td>\n",
       "      <td>-77.546667</td>\n",
       "      <td>0.044181</td>\n",
       "      <td>0.000368</td>\n",
       "      <td>-0.000805</td>\n",
       "      <td>-0.016880</td>\n",
       "      <td>0.006777</td>\n",
       "    </tr>\n",
       "    <tr>\n",
       "      <th>32802</th>\n",
       "      <td>chapmsa01</td>\n",
       "      <td>1947</td>\n",
       "      <td>21.453333</td>\n",
       "      <td>-0.012672</td>\n",
       "      <td>-0.012964</td>\n",
       "      <td>-0.002359</td>\n",
       "      <td>0.001979</td>\n",
       "      <td>0.000111</td>\n",
       "    </tr>\n",
       "  </tbody>\n",
       "</table>\n",
       "</div>"
      ],
      "text/plain": [
       "        playerID  yearID          PA        1B        2B        3B        HR  \\\n",
       "32739  applilu01    1947  -27.546667  0.028093  0.008961 -0.010476 -0.006639   \n",
       "32752  baumhfr01    1947  104.453333  0.016308  0.003595  0.002399 -0.013595   \n",
       "32774  boudrlo01    1947   10.453333  0.008521  0.032195 -0.005518 -0.014136   \n",
       "32799  cavarph01    1947  -77.546667  0.044181  0.000368 -0.000805 -0.016880   \n",
       "32802  chapmsa01    1947   21.453333 -0.012672 -0.012964 -0.002359  0.001979   \n",
       "\n",
       "             BB  \n",
       "32739  0.007466  \n",
       "32752 -0.025294  \n",
       "32774  0.005335  \n",
       "32799  0.006777  \n",
       "32802  0.000111  "
      ]
     },
     "execution_count": 105,
     "metadata": {},
     "output_type": "execute_result"
    }
   ],
   "source": [
    "### Your code here ###\n",
    "intcntrplayerstats = fplayerstats.groupby(['yearID']).transform(demean)\n",
    "labelplayerstats = fplayerstats[['playerID', 'yearID']]\n",
    "cntrplayerstats = pd.merge(labelplayerstats, intcntrplayerstats, right_index = True, left_index = True)\n",
    "cntrplayerstats.head()"
   ]
  },
  {
   "cell_type": "markdown",
   "metadata": {},
   "source": [
    "#### Problem 1(h)\n",
    "\n",
    "Using the `playerstats` DataFrame created in Problem 1(g), create a new DataFrame called `playerLS` containing the player's lifetime stats. This DataFrame should contain the playerID, the year the player's career started, the year the player's career ended and the player's lifetime average for each of the quantities (singles, doubles, triples, HR, BB). For simplicity we will simply compute the avaerage of the rates by year (a more correct way is to go back to the totals). "
   ]
  },
  {
   "cell_type": "code",
   "execution_count": 106,
   "metadata": {
    "collapsed": false
   },
   "outputs": [
    {
     "data": {
      "text/html": [
       "<div>\n",
       "<table border=\"1\" class=\"dataframe\">\n",
       "  <thead>\n",
       "    <tr style=\"text-align: right;\">\n",
       "      <th></th>\n",
       "      <th>playerID</th>\n",
       "      <th>yearStart</th>\n",
       "      <th>yearEnd</th>\n",
       "      <th>PA</th>\n",
       "      <th>1B</th>\n",
       "      <th>2B</th>\n",
       "      <th>3B</th>\n",
       "      <th>HR</th>\n",
       "      <th>BB</th>\n",
       "    </tr>\n",
       "  </thead>\n",
       "  <tbody>\n",
       "    <tr>\n",
       "      <th>0</th>\n",
       "      <td>aaronha01</td>\n",
       "      <td>1955</td>\n",
       "      <td>1975</td>\n",
       "      <td>39.006970</td>\n",
       "      <td>-0.007039</td>\n",
       "      <td>0.006542</td>\n",
       "      <td>-0.000249</td>\n",
       "      <td>0.027814</td>\n",
       "      <td>0.009415</td>\n",
       "    </tr>\n",
       "    <tr>\n",
       "      <th>1</th>\n",
       "      <td>abramca01</td>\n",
       "      <td>1953</td>\n",
       "      <td>1953</td>\n",
       "      <td>-101.090909</td>\n",
       "      <td>0.013463</td>\n",
       "      <td>-0.023915</td>\n",
       "      <td>0.002384</td>\n",
       "      <td>0.003842</td>\n",
       "      <td>0.019455</td>\n",
       "    </tr>\n",
       "    <tr>\n",
       "      <th>2</th>\n",
       "      <td>abreubo01</td>\n",
       "      <td>1998</td>\n",
       "      <td>2011</td>\n",
       "      <td>56.872566</td>\n",
       "      <td>-0.008230</td>\n",
       "      <td>0.006438</td>\n",
       "      <td>0.000983</td>\n",
       "      <td>-0.003154</td>\n",
       "      <td>0.050532</td>\n",
       "    </tr>\n",
       "    <tr>\n",
       "      <th>3</th>\n",
       "      <td>abreujo02</td>\n",
       "      <td>2014</td>\n",
       "      <td>2015</td>\n",
       "      <td>30.215953</td>\n",
       "      <td>0.003460</td>\n",
       "      <td>0.006210</td>\n",
       "      <td>-0.001179</td>\n",
       "      <td>0.023906</td>\n",
       "      <td>-0.011445</td>\n",
       "    </tr>\n",
       "    <tr>\n",
       "      <th>4</th>\n",
       "      <td>ackledu01</td>\n",
       "      <td>2012</td>\n",
       "      <td>2014</td>\n",
       "      <td>1.971226</td>\n",
       "      <td>-0.015270</td>\n",
       "      <td>-0.007373</td>\n",
       "      <td>0.000201</td>\n",
       "      <td>-0.007821</td>\n",
       "      <td>-0.010657</td>\n",
       "    </tr>\n",
       "  </tbody>\n",
       "</table>\n",
       "</div>"
      ],
      "text/plain": [
       "    playerID  yearStart  yearEnd          PA        1B        2B        3B  \\\n",
       "0  aaronha01       1955     1975   39.006970 -0.007039  0.006542 -0.000249   \n",
       "1  abramca01       1953     1953 -101.090909  0.013463 -0.023915  0.002384   \n",
       "2  abreubo01       1998     2011   56.872566 -0.008230  0.006438  0.000983   \n",
       "3  abreujo02       2014     2015   30.215953  0.003460  0.006210 -0.001179   \n",
       "4  ackledu01       2012     2014    1.971226 -0.015270 -0.007373  0.000201   \n",
       "\n",
       "         HR        BB  \n",
       "0  0.027814  0.009415  \n",
       "1  0.003842  0.019455  \n",
       "2 -0.003154  0.050532  \n",
       "3  0.023906 -0.011445  \n",
       "4 -0.007821 -0.010657  "
      ]
     },
     "execution_count": 106,
     "metadata": {},
     "output_type": "execute_result"
    }
   ],
   "source": [
    "### Your code here ###\n",
    "initcareerstats = cntrplayerstats[['PA','1B','2B','3B','HR','BB']].groupby(cntrplayerstats['playerID']).mean().reset_index()\n",
    "minyear = cntrplayerstats['yearID'].groupby(cntrplayerstats['playerID']).min().reset_index()\n",
    "maxyear = cntrplayerstats['yearID'].groupby(cntrplayerstats['playerID']).max().reset_index()\n",
    "dfs = [minyear, maxyear, initcareerstats]\n",
    "careerstats = reduce(lambda left,right: pd.merge(left,right,on='playerID'), dfs)\n",
    "careerstats.rename( columns = {'yearID_x':'yearStart', 'yearID_y':'yearEnd'}, inplace = True)\n",
    "careerstats.head()"
   ]
  },
  {
   "cell_type": "markdown",
   "metadata": {},
   "source": [
    "Show the head of the `playerLS` DataFrame. "
   ]
  },
  {
   "cell_type": "code",
   "execution_count": 107,
   "metadata": {
    "collapsed": false
   },
   "outputs": [],
   "source": [
    "### Your code here ###"
   ]
  },
  {
   "cell_type": "markdown",
   "metadata": {},
   "source": [
    "#### Problem 1(i)\n",
    "\n",
    "Compute the OPW for each player based on the average rates in the `playerLS` DataFrame. You can interpret this summary statistic as the predicted wins for a team with 9 batters exactly like the player in question. Add this column to the playerLS DataFrame. Call this colum OPW."
   ]
  },
  {
   "cell_type": "code",
   "execution_count": 108,
   "metadata": {
    "collapsed": false
   },
   "outputs": [
    {
     "data": {
      "text/html": [
       "<div>\n",
       "<table border=\"1\" class=\"dataframe\">\n",
       "  <thead>\n",
       "    <tr style=\"text-align: right;\">\n",
       "      <th></th>\n",
       "      <th>playerID</th>\n",
       "      <th>yearStart</th>\n",
       "      <th>yearEnd</th>\n",
       "      <th>PA</th>\n",
       "      <th>1B</th>\n",
       "      <th>2B</th>\n",
       "      <th>3B</th>\n",
       "      <th>HR</th>\n",
       "      <th>BB</th>\n",
       "      <th>OPW</th>\n",
       "    </tr>\n",
       "  </thead>\n",
       "  <tbody>\n",
       "    <tr>\n",
       "      <th>0</th>\n",
       "      <td>aaronha01</td>\n",
       "      <td>1955</td>\n",
       "      <td>1975</td>\n",
       "      <td>39.006970</td>\n",
       "      <td>-0.007039</td>\n",
       "      <td>0.006542</td>\n",
       "      <td>-0.000249</td>\n",
       "      <td>0.027814</td>\n",
       "      <td>0.009415</td>\n",
       "      <td>27.673714</td>\n",
       "    </tr>\n",
       "    <tr>\n",
       "      <th>1</th>\n",
       "      <td>abramca01</td>\n",
       "      <td>1953</td>\n",
       "      <td>1953</td>\n",
       "      <td>-101.090909</td>\n",
       "      <td>0.013463</td>\n",
       "      <td>-0.023915</td>\n",
       "      <td>0.002384</td>\n",
       "      <td>0.003842</td>\n",
       "      <td>0.019455</td>\n",
       "      <td>11.519791</td>\n",
       "    </tr>\n",
       "    <tr>\n",
       "      <th>2</th>\n",
       "      <td>abreubo01</td>\n",
       "      <td>1998</td>\n",
       "      <td>2011</td>\n",
       "      <td>56.872566</td>\n",
       "      <td>-0.008230</td>\n",
       "      <td>0.006438</td>\n",
       "      <td>0.000983</td>\n",
       "      <td>-0.003154</td>\n",
       "      <td>0.050532</td>\n",
       "      <td>23.056375</td>\n",
       "    </tr>\n",
       "    <tr>\n",
       "      <th>3</th>\n",
       "      <td>abreujo02</td>\n",
       "      <td>2014</td>\n",
       "      <td>2015</td>\n",
       "      <td>30.215953</td>\n",
       "      <td>0.003460</td>\n",
       "      <td>0.006210</td>\n",
       "      <td>-0.001179</td>\n",
       "      <td>0.023906</td>\n",
       "      <td>-0.011445</td>\n",
       "      <td>17.954214</td>\n",
       "    </tr>\n",
       "    <tr>\n",
       "      <th>4</th>\n",
       "      <td>ackledu01</td>\n",
       "      <td>2012</td>\n",
       "      <td>2014</td>\n",
       "      <td>1.971226</td>\n",
       "      <td>-0.015270</td>\n",
       "      <td>-0.007373</td>\n",
       "      <td>0.000201</td>\n",
       "      <td>-0.007821</td>\n",
       "      <td>-0.010657</td>\n",
       "      <td>-23.414144</td>\n",
       "    </tr>\n",
       "  </tbody>\n",
       "</table>\n",
       "</div>"
      ],
      "text/plain": [
       "    playerID  yearStart  yearEnd          PA        1B        2B        3B  \\\n",
       "0  aaronha01       1955     1975   39.006970 -0.007039  0.006542 -0.000249   \n",
       "1  abramca01       1953     1953 -101.090909  0.013463 -0.023915  0.002384   \n",
       "2  abreubo01       1998     2011   56.872566 -0.008230  0.006438  0.000983   \n",
       "3  abreujo02       2014     2015   30.215953  0.003460  0.006210 -0.001179   \n",
       "4  ackledu01       2012     2014    1.971226 -0.015270 -0.007373  0.000201   \n",
       "\n",
       "         HR        BB        OPW  \n",
       "0  0.027814  0.009415  27.673714  \n",
       "1  0.003842  0.019455  11.519791  \n",
       "2 -0.003154  0.050532  23.056375  \n",
       "3  0.023906 -0.011445  17.954214  \n",
       "4 -0.007821 -0.010657 -23.414144  "
      ]
     },
     "execution_count": 108,
     "metadata": {},
     "output_type": "execute_result"
    }
   ],
   "source": [
    "avgRates = careerstats[[\"1B\",\"2B\",\"3B\",\"HR\",\"BB\"]].values\n",
    "careerstats[\"OPW\"] = clf.predict(avgRates)\n",
    "careerstats.head()\n",
    "#Note that this OPW statistic is wins greater than average (mean centered)"
   ]
  },
  {
   "cell_type": "markdown",
   "metadata": {},
   "source": [
    "#### Problem 1(j)\n",
    "\n",
    "Add four columns to the `playerLS` DataFrame that contains the player's position (C, 1B, 2B, 3B, SS, LF, CF, RF, or OF), first name, last name and median salary. "
   ]
  },
  {
   "cell_type": "code",
   "execution_count": 109,
   "metadata": {
    "collapsed": false
   },
   "outputs": [
    {
     "data": {
      "text/html": [
       "<div>\n",
       "<table border=\"1\" class=\"dataframe\">\n",
       "  <thead>\n",
       "    <tr style=\"text-align: right;\">\n",
       "      <th></th>\n",
       "      <th>playerID</th>\n",
       "      <th>POS</th>\n",
       "    </tr>\n",
       "  </thead>\n",
       "  <tbody>\n",
       "    <tr>\n",
       "      <th>0</th>\n",
       "      <td>aardsda01</td>\n",
       "      <td>P</td>\n",
       "    </tr>\n",
       "    <tr>\n",
       "      <th>1</th>\n",
       "      <td>aaronha01</td>\n",
       "      <td>OF</td>\n",
       "    </tr>\n",
       "    <tr>\n",
       "      <th>2</th>\n",
       "      <td>aaronto01</td>\n",
       "      <td>1B</td>\n",
       "    </tr>\n",
       "    <tr>\n",
       "      <th>3</th>\n",
       "      <td>aasedo01</td>\n",
       "      <td>P</td>\n",
       "    </tr>\n",
       "    <tr>\n",
       "      <th>4</th>\n",
       "      <td>abadan01</td>\n",
       "      <td>1B</td>\n",
       "    </tr>\n",
       "  </tbody>\n",
       "</table>\n",
       "</div>"
      ],
      "text/plain": [
       "    playerID POS\n",
       "0  aardsda01   P\n",
       "1  aaronha01  OF\n",
       "2  aaronto01  1B\n",
       "3   aasedo01   P\n",
       "4   abadan01  1B"
      ]
     },
     "execution_count": 109,
     "metadata": {},
     "output_type": "execute_result"
    }
   ],
   "source": [
    "newfielding = fielding[['playerID','POS']]\n",
    "fieldingpos = newfielding.groupby('playerID').agg(lambda x:x.value_counts().index[0]).reset_index()\n",
    "fieldingpos.head()\n",
    "#This is a simple way to get around each player having multiple positions over time.\n",
    "#Alternatives are most recent position, or allowing multiple positions downstream"
   ]
  },
  {
   "cell_type": "code",
   "execution_count": 110,
   "metadata": {
    "collapsed": false
   },
   "outputs": [
    {
     "data": {
      "text/html": [
       "<div>\n",
       "<table border=\"1\" class=\"dataframe\">\n",
       "  <thead>\n",
       "    <tr style=\"text-align: right;\">\n",
       "      <th></th>\n",
       "      <th>playerID</th>\n",
       "      <th>yearStart</th>\n",
       "      <th>yearEnd</th>\n",
       "      <th>PA</th>\n",
       "      <th>1B</th>\n",
       "      <th>2B</th>\n",
       "      <th>3B</th>\n",
       "      <th>HR</th>\n",
       "      <th>BB</th>\n",
       "      <th>OPW</th>\n",
       "      <th>POS</th>\n",
       "      <th>nameFirst</th>\n",
       "      <th>nameLast</th>\n",
       "      <th>salary</th>\n",
       "    </tr>\n",
       "  </thead>\n",
       "  <tbody>\n",
       "    <tr>\n",
       "      <th>0</th>\n",
       "      <td>abreubo01</td>\n",
       "      <td>1998</td>\n",
       "      <td>2011</td>\n",
       "      <td>56.872566</td>\n",
       "      <td>-0.008230</td>\n",
       "      <td>0.006438</td>\n",
       "      <td>0.000983</td>\n",
       "      <td>-0.003154</td>\n",
       "      <td>0.050532</td>\n",
       "      <td>23.056375</td>\n",
       "      <td>RF</td>\n",
       "      <td>Bobby</td>\n",
       "      <td>Abreu</td>\n",
       "      <td>9000000</td>\n",
       "    </tr>\n",
       "    <tr>\n",
       "      <th>1</th>\n",
       "      <td>abreujo02</td>\n",
       "      <td>2014</td>\n",
       "      <td>2015</td>\n",
       "      <td>30.215953</td>\n",
       "      <td>0.003460</td>\n",
       "      <td>0.006210</td>\n",
       "      <td>-0.001179</td>\n",
       "      <td>0.023906</td>\n",
       "      <td>-0.011445</td>\n",
       "      <td>17.954214</td>\n",
       "      <td>1B</td>\n",
       "      <td>Jose</td>\n",
       "      <td>Abreu</td>\n",
       "      <td>7833000</td>\n",
       "    </tr>\n",
       "    <tr>\n",
       "      <th>2</th>\n",
       "      <td>ackledu01</td>\n",
       "      <td>2012</td>\n",
       "      <td>2014</td>\n",
       "      <td>1.971226</td>\n",
       "      <td>-0.015270</td>\n",
       "      <td>-0.007373</td>\n",
       "      <td>0.000201</td>\n",
       "      <td>-0.007821</td>\n",
       "      <td>-0.010657</td>\n",
       "      <td>-23.414144</td>\n",
       "      <td>2B</td>\n",
       "      <td>Dustin</td>\n",
       "      <td>Ackley</td>\n",
       "      <td>2350000</td>\n",
       "    </tr>\n",
       "    <tr>\n",
       "      <th>3</th>\n",
       "      <td>adamsma01</td>\n",
       "      <td>2014</td>\n",
       "      <td>2014</td>\n",
       "      <td>-42.172932</td>\n",
       "      <td>0.009793</td>\n",
       "      <td>0.012783</td>\n",
       "      <td>0.003997</td>\n",
       "      <td>0.000452</td>\n",
       "      <td>-0.035798</td>\n",
       "      <td>-2.117640</td>\n",
       "      <td>1B</td>\n",
       "      <td>Matt</td>\n",
       "      <td>Adams</td>\n",
       "      <td>516000</td>\n",
       "    </tr>\n",
       "    <tr>\n",
       "      <th>4</th>\n",
       "      <td>adamsru01</td>\n",
       "      <td>2005</td>\n",
       "      <td>2005</td>\n",
       "      <td>-76.150000</td>\n",
       "      <td>-0.007867</td>\n",
       "      <td>-0.001289</td>\n",
       "      <td>0.004160</td>\n",
       "      <td>-0.017533</td>\n",
       "      <td>0.002672</td>\n",
       "      <td>-13.567697</td>\n",
       "      <td>SS</td>\n",
       "      <td>Russ</td>\n",
       "      <td>Adams</td>\n",
       "      <td>329500</td>\n",
       "    </tr>\n",
       "  </tbody>\n",
       "</table>\n",
       "</div>"
      ],
      "text/plain": [
       "    playerID  yearStart  yearEnd         PA        1B        2B        3B  \\\n",
       "0  abreubo01       1998     2011  56.872566 -0.008230  0.006438  0.000983   \n",
       "1  abreujo02       2014     2015  30.215953  0.003460  0.006210 -0.001179   \n",
       "2  ackledu01       2012     2014   1.971226 -0.015270 -0.007373  0.000201   \n",
       "3  adamsma01       2014     2014 -42.172932  0.009793  0.012783  0.003997   \n",
       "4  adamsru01       2005     2005 -76.150000 -0.007867 -0.001289  0.004160   \n",
       "\n",
       "         HR        BB        OPW POS nameFirst nameLast   salary  \n",
       "0 -0.003154  0.050532  23.056375  RF     Bobby    Abreu  9000000  \n",
       "1  0.023906 -0.011445  17.954214  1B      Jose    Abreu  7833000  \n",
       "2 -0.007821 -0.010657 -23.414144  2B    Dustin   Ackley  2350000  \n",
       "3  0.000452 -0.035798  -2.117640  1B      Matt    Adams   516000  \n",
       "4 -0.017533  0.002672 -13.567697  SS      Russ    Adams   329500  "
      ]
     },
     "execution_count": 110,
     "metadata": {},
     "output_type": "execute_result"
    }
   ],
   "source": [
    "### Your code here ###\n",
    "dfsi = [careerstats, fieldingpos, mediansalary]\n",
    "careerstats = reduce(lambda left,right: pd.merge(left,right,on='playerID'), dfsi)\n",
    "careerstats.head()\n"
   ]
  },
  {
   "cell_type": "markdown",
   "metadata": {},
   "source": [
    "Show the head of the `playerLS` DataFrame. "
   ]
  },
  {
   "cell_type": "code",
   "execution_count": null,
   "metadata": {
    "collapsed": false
   },
   "outputs": [],
   "source": [
    "### Your code here ###"
   ]
  },
  {
   "cell_type": "markdown",
   "metadata": {},
   "source": [
    "#### Problem 1(k)\n",
    "\n",
    "Subset the `playerLS` DataFrame for players active in 2002 and 2003 and played at least three years. Plot and describe the relationship bewteen the median salary (in millions) and the predicted number of wins. "
   ]
  },
  {
   "cell_type": "code",
   "execution_count": 117,
   "metadata": {
    "collapsed": false
   },
   "outputs": [
    {
     "data": {
      "text/html": [
       "<div>\n",
       "<table border=\"1\" class=\"dataframe\">\n",
       "  <thead>\n",
       "    <tr style=\"text-align: right;\">\n",
       "      <th></th>\n",
       "      <th>playerID</th>\n",
       "      <th>yearStart</th>\n",
       "      <th>yearEnd</th>\n",
       "      <th>PA</th>\n",
       "      <th>1B</th>\n",
       "      <th>2B</th>\n",
       "      <th>3B</th>\n",
       "      <th>HR</th>\n",
       "      <th>BB</th>\n",
       "      <th>OPW</th>\n",
       "      <th>POS</th>\n",
       "      <th>nameFirst</th>\n",
       "      <th>nameLast</th>\n",
       "      <th>salary</th>\n",
       "    </tr>\n",
       "  </thead>\n",
       "  <tbody>\n",
       "    <tr>\n",
       "      <th>0</th>\n",
       "      <td>abreubo01</td>\n",
       "      <td>1998</td>\n",
       "      <td>2011</td>\n",
       "      <td>56.872566</td>\n",
       "      <td>-0.008230</td>\n",
       "      <td>0.006438</td>\n",
       "      <td>0.000983</td>\n",
       "      <td>-0.003154</td>\n",
       "      <td>0.050532</td>\n",
       "      <td>23.056375</td>\n",
       "      <td>RF</td>\n",
       "      <td>Bobby</td>\n",
       "      <td>Abreu</td>\n",
       "      <td>9000000</td>\n",
       "    </tr>\n",
       "    <tr>\n",
       "      <th>5</th>\n",
       "      <td>alfoned01</td>\n",
       "      <td>1997</td>\n",
       "      <td>2004</td>\n",
       "      <td>-14.079602</td>\n",
       "      <td>0.013541</td>\n",
       "      <td>-0.002185</td>\n",
       "      <td>-0.003255</td>\n",
       "      <td>-0.006373</td>\n",
       "      <td>0.010738</td>\n",
       "      <td>2.399494</td>\n",
       "      <td>2B</td>\n",
       "      <td>Edgardo</td>\n",
       "      <td>Alfonzo</td>\n",
       "      <td>4112500</td>\n",
       "    </tr>\n",
       "    <tr>\n",
       "      <th>11</th>\n",
       "      <td>aloumo01</td>\n",
       "      <td>1993</td>\n",
       "      <td>2004</td>\n",
       "      <td>-19.725633</td>\n",
       "      <td>0.004094</td>\n",
       "      <td>0.001009</td>\n",
       "      <td>-0.000408</td>\n",
       "      <td>0.010046</td>\n",
       "      <td>0.000702</td>\n",
       "      <td>11.078477</td>\n",
       "      <td>OF</td>\n",
       "      <td>Moises</td>\n",
       "      <td>Alou</td>\n",
       "      <td>5135000</td>\n",
       "    </tr>\n",
       "    <tr>\n",
       "      <th>15</th>\n",
       "      <td>anderga01</td>\n",
       "      <td>1996</td>\n",
       "      <td>2009</td>\n",
       "      <td>23.382869</td>\n",
       "      <td>0.019434</td>\n",
       "      <td>0.007041</td>\n",
       "      <td>-0.001227</td>\n",
       "      <td>-0.002956</td>\n",
       "      <td>-0.051380</td>\n",
       "      <td>-16.643057</td>\n",
       "      <td>OF</td>\n",
       "      <td>Garret</td>\n",
       "      <td>Anderson</td>\n",
       "      <td>3250000</td>\n",
       "    </tr>\n",
       "    <tr>\n",
       "      <th>24</th>\n",
       "      <td>aurilri01</td>\n",
       "      <td>1999</td>\n",
       "      <td>2003</td>\n",
       "      <td>-14.978056</td>\n",
       "      <td>0.009741</td>\n",
       "      <td>-0.002436</td>\n",
       "      <td>-0.001822</td>\n",
       "      <td>0.000048</td>\n",
       "      <td>-0.026483</td>\n",
       "      <td>-11.645949</td>\n",
       "      <td>SS</td>\n",
       "      <td>Rich</td>\n",
       "      <td>Aurilia</td>\n",
       "      <td>1300000</td>\n",
       "    </tr>\n",
       "  </tbody>\n",
       "</table>\n",
       "</div>"
      ],
      "text/plain": [
       "     playerID  yearStart  yearEnd         PA        1B        2B        3B  \\\n",
       "0   abreubo01       1998     2011  56.872566 -0.008230  0.006438  0.000983   \n",
       "5   alfoned01       1997     2004 -14.079602  0.013541 -0.002185 -0.003255   \n",
       "11   aloumo01       1993     2004 -19.725633  0.004094  0.001009 -0.000408   \n",
       "15  anderga01       1996     2009  23.382869  0.019434  0.007041 -0.001227   \n",
       "24  aurilri01       1999     2003 -14.978056  0.009741 -0.002436 -0.001822   \n",
       "\n",
       "          HR        BB        OPW POS nameFirst  nameLast   salary  \n",
       "0  -0.003154  0.050532  23.056375  RF     Bobby     Abreu  9000000  \n",
       "5  -0.006373  0.010738   2.399494  2B   Edgardo   Alfonzo  4112500  \n",
       "11  0.010046  0.000702  11.078477  OF    Moises      Alou  5135000  \n",
       "15 -0.002956 -0.051380 -16.643057  OF    Garret  Anderson  3250000  \n",
       "24  0.000048 -0.026483 -11.645949  SS      Rich   Aurilia  1300000  "
      ]
     },
     "execution_count": 117,
     "metadata": {},
     "output_type": "execute_result"
    }
   ],
   "source": [
    "### Your code here ###\n",
    "#active = range(careerstats['yearStart'].values, careerstats['yearEnd'].values)\n",
    "#print active\n",
    "subcareerstats = careerstats[((careerstats['yearStart'] <= 2002) & (careerstats['yearEnd'] >= 2003)) & \n",
    "                             ((careerstats['yearEnd'] - careerstats['yearStart']) >= 3)]\n",
    "\n",
    "subcareerstats.head()"
   ]
  },
  {
   "cell_type": "code",
   "execution_count": 126,
   "metadata": {
    "collapsed": false
   },
   "outputs": [
    {
     "data": {
      "text/plain": [
       "<matplotlib.collections.PathCollection at 0xdb3de80>"
      ]
     },
     "execution_count": 126,
     "metadata": {},
     "output_type": "execute_result"
    },
    {
     "data": {
      "image/png": "[encoded data removed]",
      "text/plain": [
       "<matplotlib.figure.Figure at 0x1285ac88>"
      ]
     },
     "metadata": {},
     "output_type": "display_data"
    }
   ],
   "source": [
    "x = subcareerstats['salary']\n",
    "y = subcareerstats['OPW']\n",
    "plt.scatter(x, y)"
   ]
  },
  {
   "cell_type": "code",
   "execution_count": 119,
   "metadata": {
    "collapsed": true
   },
   "outputs": [
    {
     "data": {
      "text/html": [
       "<div>\n",
       "<table border=\"1\" class=\"dataframe\">\n",
       "  <thead>\n",
       "    <tr style=\"text-align: right;\">\n",
       "      <th></th>\n",
       "      <th>playerID</th>\n",
       "      <th>yearStart</th>\n",
       "      <th>yearEnd</th>\n",
       "      <th>PA</th>\n",
       "      <th>1B</th>\n",
       "      <th>2B</th>\n",
       "      <th>3B</th>\n",
       "      <th>HR</th>\n",
       "      <th>BB</th>\n",
       "      <th>OPW</th>\n",
       "      <th>POS</th>\n",
       "      <th>nameFirst</th>\n",
       "      <th>nameLast</th>\n",
       "      <th>salary</th>\n",
       "    </tr>\n",
       "  </thead>\n",
       "  <tbody>\n",
       "    <tr>\n",
       "      <th>87</th>\n",
       "      <td>bondsba01</td>\n",
       "      <td>1987</td>\n",
       "      <td>2004</td>\n",
       "      <td>24.784299</td>\n",
       "      <td>-0.045155</td>\n",
       "      <td>0.001328</td>\n",
       "      <td>0.001382</td>\n",
       "      <td>0.030737</td>\n",
       "      <td>0.112057</td>\n",
       "      <td>62.061290</td>\n",
       "      <td>OF</td>\n",
       "      <td>Barry</td>\n",
       "      <td>Bonds</td>\n",
       "      <td>8541667</td>\n",
       "    </tr>\n",
       "    <tr>\n",
       "      <th>439</th>\n",
       "      <td>heltoto01</td>\n",
       "      <td>1998</td>\n",
       "      <td>2009</td>\n",
       "      <td>43.675883</td>\n",
       "      <td>0.001089</td>\n",
       "      <td>0.016508</td>\n",
       "      <td>-0.000715</td>\n",
       "      <td>0.009147</td>\n",
       "      <td>0.049936</td>\n",
       "      <td>41.002660</td>\n",
       "      <td>1B</td>\n",
       "      <td>Todd</td>\n",
       "      <td>Helton</td>\n",
       "      <td>10600000</td>\n",
       "    </tr>\n",
       "    <tr>\n",
       "      <th>918</th>\n",
       "      <td>thomafr04</td>\n",
       "      <td>1991</td>\n",
       "      <td>2007</td>\n",
       "      <td>34.028785</td>\n",
       "      <td>-0.020285</td>\n",
       "      <td>0.001079</td>\n",
       "      <td>-0.004901</td>\n",
       "      <td>0.021412</td>\n",
       "      <td>0.069512</td>\n",
       "      <td>38.107000</td>\n",
       "      <td>1B</td>\n",
       "      <td>Frank</td>\n",
       "      <td>Thomas</td>\n",
       "      <td>7000000</td>\n",
       "    </tr>\n",
       "    <tr>\n",
       "      <th>920</th>\n",
       "      <td>thomeji01</td>\n",
       "      <td>1995</td>\n",
       "      <td>2008</td>\n",
       "      <td>-0.374432</td>\n",
       "      <td>-0.044329</td>\n",
       "      <td>-0.006403</td>\n",
       "      <td>-0.002835</td>\n",
       "      <td>0.029738</td>\n",
       "      <td>0.081265</td>\n",
       "      <td>37.385272</td>\n",
       "      <td>1B</td>\n",
       "      <td>Jim</td>\n",
       "      <td>Thome</td>\n",
       "      <td>6337500</td>\n",
       "    </tr>\n",
       "    <tr>\n",
       "      <th>68</th>\n",
       "      <td>berkmla01</td>\n",
       "      <td>2001</td>\n",
       "      <td>2011</td>\n",
       "      <td>23.814235</td>\n",
       "      <td>-0.021989</td>\n",
       "      <td>0.003858</td>\n",
       "      <td>-0.001269</td>\n",
       "      <td>0.016979</td>\n",
       "      <td>0.064240</td>\n",
       "      <td>36.210367</td>\n",
       "      <td>1B</td>\n",
       "      <td>Lance</td>\n",
       "      <td>Berkman</td>\n",
       "      <td>10250000</td>\n",
       "    </tr>\n",
       "    <tr>\n",
       "      <th>785</th>\n",
       "      <td>ramirma02</td>\n",
       "      <td>1995</td>\n",
       "      <td>2007</td>\n",
       "      <td>-6.064563</td>\n",
       "      <td>-0.013538</td>\n",
       "      <td>0.006175</td>\n",
       "      <td>-0.003158</td>\n",
       "      <td>0.026281</td>\n",
       "      <td>0.041303</td>\n",
       "      <td>35.785630</td>\n",
       "      <td>OF</td>\n",
       "      <td>Manny</td>\n",
       "      <td>Ramirez</td>\n",
       "      <td>13050000</td>\n",
       "    </tr>\n",
       "    <tr>\n",
       "      <th>616</th>\n",
       "      <td>martied01</td>\n",
       "      <td>1990</td>\n",
       "      <td>2004</td>\n",
       "      <td>4.445406</td>\n",
       "      <td>0.000967</td>\n",
       "      <td>0.011742</td>\n",
       "      <td>-0.003917</td>\n",
       "      <td>0.004958</td>\n",
       "      <td>0.052803</td>\n",
       "      <td>32.906884</td>\n",
       "      <td>3B</td>\n",
       "      <td>Edgar</td>\n",
       "      <td>Martinez</td>\n",
       "      <td>3500000</td>\n",
       "    </tr>\n",
       "    <tr>\n",
       "      <th>775</th>\n",
       "      <td>pujolal01</td>\n",
       "      <td>2001</td>\n",
       "      <td>2015</td>\n",
       "      <td>57.212051</td>\n",
       "      <td>-0.008686</td>\n",
       "      <td>0.009619</td>\n",
       "      <td>-0.003546</td>\n",
       "      <td>0.025981</td>\n",
       "      <td>0.028491</td>\n",
       "      <td>32.727629</td>\n",
       "      <td>1B</td>\n",
       "      <td>Albert</td>\n",
       "      <td>Pujols</td>\n",
       "      <td>13870949</td>\n",
       "    </tr>\n",
       "    <tr>\n",
       "      <th>966</th>\n",
       "      <td>walkela01</td>\n",
       "      <td>1991</td>\n",
       "      <td>2003</td>\n",
       "      <td>-40.441200</td>\n",
       "      <td>-0.004452</td>\n",
       "      <td>0.011844</td>\n",
       "      <td>0.001775</td>\n",
       "      <td>0.017229</td>\n",
       "      <td>0.020726</td>\n",
       "      <td>30.644305</td>\n",
       "      <td>OF</td>\n",
       "      <td>Larry</td>\n",
       "      <td>Walker</td>\n",
       "      <td>6050000</td>\n",
       "    </tr>\n",
       "    <tr>\n",
       "      <th>354</th>\n",
       "      <td>giambja01</td>\n",
       "      <td>1996</td>\n",
       "      <td>2008</td>\n",
       "      <td>2.493547</td>\n",
       "      <td>-0.026569</td>\n",
       "      <td>-0.001396</td>\n",
       "      <td>-0.004037</td>\n",
       "      <td>0.019933</td>\n",
       "      <td>0.063815</td>\n",
       "      <td>30.440007</td>\n",
       "      <td>1B</td>\n",
       "      <td>Jason</td>\n",
       "      <td>Giambi</td>\n",
       "      <td>3103333</td>\n",
       "    </tr>\n",
       "    <tr>\n",
       "      <th>859</th>\n",
       "      <td>sheffga01</td>\n",
       "      <td>1990</td>\n",
       "      <td>2007</td>\n",
       "      <td>6.690191</td>\n",
       "      <td>-0.006684</td>\n",
       "      <td>-0.005174</td>\n",
       "      <td>-0.003385</td>\n",
       "      <td>0.018046</td>\n",
       "      <td>0.046055</td>\n",
       "      <td>29.090699</td>\n",
       "      <td>OF</td>\n",
       "      <td>Gary</td>\n",
       "      <td>Sheffield</td>\n",
       "      <td>9916667</td>\n",
       "    </tr>\n",
       "    <tr>\n",
       "      <th>511</th>\n",
       "      <td>jonesch06</td>\n",
       "      <td>1995</td>\n",
       "      <td>2011</td>\n",
       "      <td>21.007547</td>\n",
       "      <td>-0.004678</td>\n",
       "      <td>-0.000224</td>\n",
       "      <td>-0.001434</td>\n",
       "      <td>0.010970</td>\n",
       "      <td>0.045416</td>\n",
       "      <td>28.383418</td>\n",
       "      <td>3B</td>\n",
       "      <td>Chipper</td>\n",
       "      <td>Jones</td>\n",
       "      <td>10833333</td>\n",
       "    </tr>\n",
       "    <tr>\n",
       "      <th>357</th>\n",
       "      <td>gilesbr02</td>\n",
       "      <td>1999</td>\n",
       "      <td>2008</td>\n",
       "      <td>40.816461</td>\n",
       "      <td>-0.015326</td>\n",
       "      <td>0.002823</td>\n",
       "      <td>0.002131</td>\n",
       "      <td>0.004659</td>\n",
       "      <td>0.055597</td>\n",
       "      <td>28.160054</td>\n",
       "      <td>OF</td>\n",
       "      <td>Brian</td>\n",
       "      <td>Giles</td>\n",
       "      <td>7666666</td>\n",
       "    </tr>\n",
       "    <tr>\n",
       "      <th>31</th>\n",
       "      <td>bagweje01</td>\n",
       "      <td>1991</td>\n",
       "      <td>2004</td>\n",
       "      <td>58.886467</td>\n",
       "      <td>-0.021194</td>\n",
       "      <td>0.002799</td>\n",
       "      <td>-0.002027</td>\n",
       "      <td>0.014081</td>\n",
       "      <td>0.053185</td>\n",
       "      <td>27.133545</td>\n",
       "      <td>1B</td>\n",
       "      <td>Jeff</td>\n",
       "      <td>Bagwell</td>\n",
       "      <td>6875000</td>\n",
       "    </tr>\n",
       "    <tr>\n",
       "      <th>282</th>\n",
       "      <td>edmonji01</td>\n",
       "      <td>1995</td>\n",
       "      <td>2005</td>\n",
       "      <td>-15.735833</td>\n",
       "      <td>-0.027359</td>\n",
       "      <td>0.005619</td>\n",
       "      <td>-0.002631</td>\n",
       "      <td>0.021601</td>\n",
       "      <td>0.038543</td>\n",
       "      <td>23.486406</td>\n",
       "      <td>CF</td>\n",
       "      <td>Jim</td>\n",
       "      <td>Edmonds</td>\n",
       "      <td>4500000</td>\n",
       "    </tr>\n",
       "    <tr>\n",
       "      <th>0</th>\n",
       "      <td>abreubo01</td>\n",
       "      <td>1998</td>\n",
       "      <td>2011</td>\n",
       "      <td>56.872566</td>\n",
       "      <td>-0.008230</td>\n",
       "      <td>0.006438</td>\n",
       "      <td>0.000983</td>\n",
       "      <td>-0.003154</td>\n",
       "      <td>0.050532</td>\n",
       "      <td>23.056375</td>\n",
       "      <td>RF</td>\n",
       "      <td>Bobby</td>\n",
       "      <td>Abreu</td>\n",
       "      <td>9000000</td>\n",
       "    </tr>\n",
       "    <tr>\n",
       "      <th>392</th>\n",
       "      <td>griffke02</td>\n",
       "      <td>1990</td>\n",
       "      <td>2007</td>\n",
       "      <td>35.066695</td>\n",
       "      <td>-0.019746</td>\n",
       "      <td>-0.000414</td>\n",
       "      <td>-0.001419</td>\n",
       "      <td>0.029520</td>\n",
       "      <td>0.019503</td>\n",
       "      <td>22.965706</td>\n",
       "      <td>OF</td>\n",
       "      <td>Ken</td>\n",
       "      <td>Griffey</td>\n",
       "      <td>8019599</td>\n",
       "    </tr>\n",
       "    <tr>\n",
       "      <th>755</th>\n",
       "      <td>piazzmi01</td>\n",
       "      <td>1993</td>\n",
       "      <td>2004</td>\n",
       "      <td>-32.352606</td>\n",
       "      <td>0.006885</td>\n",
       "      <td>-0.007399</td>\n",
       "      <td>-0.004271</td>\n",
       "      <td>0.026351</td>\n",
       "      <td>0.008523</td>\n",
       "      <td>21.998185</td>\n",
       "      <td>C</td>\n",
       "      <td>Mike</td>\n",
       "      <td>Piazza</td>\n",
       "      <td>8000000</td>\n",
       "    </tr>\n",
       "    <tr>\n",
       "      <th>820</th>\n",
       "      <td>rodrial01</td>\n",
       "      <td>1996</td>\n",
       "      <td>2015</td>\n",
       "      <td>30.795886</td>\n",
       "      <td>-0.009831</td>\n",
       "      <td>-0.004662</td>\n",
       "      <td>-0.002716</td>\n",
       "      <td>0.026536</td>\n",
       "      <td>0.019092</td>\n",
       "      <td>21.892179</td>\n",
       "      <td>SS</td>\n",
       "      <td>Alex</td>\n",
       "      <td>Rodriguez</td>\n",
       "      <td>22000000</td>\n",
       "    </tr>\n",
       "    <tr>\n",
       "      <th>710</th>\n",
       "      <td>olerujo01</td>\n",
       "      <td>1991</td>\n",
       "      <td>2003</td>\n",
       "      <td>21.302216</td>\n",
       "      <td>-0.000690</td>\n",
       "      <td>0.009111</td>\n",
       "      <td>-0.004263</td>\n",
       "      <td>-0.003941</td>\n",
       "      <td>0.048769</td>\n",
       "      <td>20.740609</td>\n",
       "      <td>1B</td>\n",
       "      <td>John</td>\n",
       "      <td>Olerud</td>\n",
       "      <td>5750000</td>\n",
       "    </tr>\n",
       "    <tr>\n",
       "      <th>832</th>\n",
       "      <td>salmoti01</td>\n",
       "      <td>1993</td>\n",
       "      <td>2003</td>\n",
       "      <td>11.166325</td>\n",
       "      <td>-0.020683</td>\n",
       "      <td>0.000710</td>\n",
       "      <td>-0.002179</td>\n",
       "      <td>0.010578</td>\n",
       "      <td>0.045627</td>\n",
       "      <td>19.376667</td>\n",
       "      <td>RF</td>\n",
       "      <td>Tim</td>\n",
       "      <td>Salmon</td>\n",
       "      <td>5250000</td>\n",
       "    </tr>\n",
       "    <tr>\n",
       "      <th>400</th>\n",
       "      <td>guerrvl01</td>\n",
       "      <td>1998</td>\n",
       "      <td>2011</td>\n",
       "      <td>29.900693</td>\n",
       "      <td>0.016618</td>\n",
       "      <td>0.003089</td>\n",
       "      <td>-0.000093</td>\n",
       "      <td>0.017797</td>\n",
       "      <td>-0.013706</td>\n",
       "      <td>18.224289</td>\n",
       "      <td>RF</td>\n",
       "      <td>Vladimir</td>\n",
       "      <td>Guerrero</td>\n",
       "      <td>8000000</td>\n",
       "    </tr>\n",
       "    <tr>\n",
       "      <th>991</th>\n",
       "      <td>willibe02</td>\n",
       "      <td>1993</td>\n",
       "      <td>2005</td>\n",
       "      <td>8.699086</td>\n",
       "      <td>0.007870</td>\n",
       "      <td>-0.002083</td>\n",
       "      <td>0.001081</td>\n",
       "      <td>0.000837</td>\n",
       "      <td>0.023317</td>\n",
       "      <td>16.990761</td>\n",
       "      <td>CF</td>\n",
       "      <td>Bernie</td>\n",
       "      <td>Williams</td>\n",
       "      <td>6800000</td>\n",
       "    </tr>\n",
       "    <tr>\n",
       "      <th>247</th>\n",
       "      <td>delgaca01</td>\n",
       "      <td>1996</td>\n",
       "      <td>2008</td>\n",
       "      <td>8.797336</td>\n",
       "      <td>-0.038503</td>\n",
       "      <td>0.007053</td>\n",
       "      <td>-0.003178</td>\n",
       "      <td>0.022686</td>\n",
       "      <td>0.033912</td>\n",
       "      <td>16.270727</td>\n",
       "      <td>1B</td>\n",
       "      <td>Carlos</td>\n",
       "      <td>Delgado</td>\n",
       "      <td>12000000</td>\n",
       "    </tr>\n",
       "    <tr>\n",
       "      <th>271</th>\n",
       "      <td>dunnad01</td>\n",
       "      <td>2002</td>\n",
       "      <td>2013</td>\n",
       "      <td>41.963740</td>\n",
       "      <td>-0.060540</td>\n",
       "      <td>-0.009119</td>\n",
       "      <td>-0.003733</td>\n",
       "      <td>0.026123</td>\n",
       "      <td>0.066696</td>\n",
       "      <td>16.042520</td>\n",
       "      <td>OF</td>\n",
       "      <td>Adam</td>\n",
       "      <td>Dunn</td>\n",
       "      <td>10500000</td>\n",
       "    </tr>\n",
       "    <tr>\n",
       "      <th>767</th>\n",
       "      <td>posadjo01</td>\n",
       "      <td>2000</td>\n",
       "      <td>2007</td>\n",
       "      <td>-44.147925</td>\n",
       "      <td>-0.018501</td>\n",
       "      <td>0.003245</td>\n",
       "      <td>-0.003950</td>\n",
       "      <td>0.006433</td>\n",
       "      <td>0.043446</td>\n",
       "      <td>15.071846</td>\n",
       "      <td>C</td>\n",
       "      <td>Jorge</td>\n",
       "      <td>Posada</td>\n",
       "      <td>9000000</td>\n",
       "    </tr>\n",
       "    <tr>\n",
       "      <th>902</th>\n",
       "      <td>sweenmi01</td>\n",
       "      <td>1999</td>\n",
       "      <td>2005</td>\n",
       "      <td>-13.156628</td>\n",
       "      <td>0.017627</td>\n",
       "      <td>0.013500</td>\n",
       "      <td>-0.004299</td>\n",
       "      <td>0.007064</td>\n",
       "      <td>-0.004878</td>\n",
       "      <td>14.328679</td>\n",
       "      <td>1B</td>\n",
       "      <td>Mike</td>\n",
       "      <td>Sweeney</td>\n",
       "      <td>1450000</td>\n",
       "    </tr>\n",
       "    <tr>\n",
       "      <th>729</th>\n",
       "      <td>palmera01</td>\n",
       "      <td>1988</td>\n",
       "      <td>2004</td>\n",
       "      <td>60.263872</td>\n",
       "      <td>-0.013765</td>\n",
       "      <td>0.000432</td>\n",
       "      <td>-0.002090</td>\n",
       "      <td>0.016752</td>\n",
       "      <td>0.018113</td>\n",
       "      <td>14.152918</td>\n",
       "      <td>1B</td>\n",
       "      <td>Rafael</td>\n",
       "      <td>Palmeiro</td>\n",
       "      <td>4906603</td>\n",
       "    </tr>\n",
       "    <tr>\n",
       "      <th>345</th>\n",
       "      <td>garcino01</td>\n",
       "      <td>1997</td>\n",
       "      <td>2006</td>\n",
       "      <td>21.905659</td>\n",
       "      <td>0.016259</td>\n",
       "      <td>0.016416</td>\n",
       "      <td>0.004621</td>\n",
       "      <td>0.007545</td>\n",
       "      <td>-0.028594</td>\n",
       "      <td>13.447706</td>\n",
       "      <td>SS</td>\n",
       "      <td>Nomar</td>\n",
       "      <td>Garciaparra</td>\n",
       "      <td>6625000</td>\n",
       "    </tr>\n",
       "    <tr>\n",
       "      <th>823</th>\n",
       "      <td>rolensc01</td>\n",
       "      <td>1997</td>\n",
       "      <td>2010</td>\n",
       "      <td>-8.087687</td>\n",
       "      <td>-0.019658</td>\n",
       "      <td>0.013833</td>\n",
       "      <td>-0.000405</td>\n",
       "      <td>0.009241</td>\n",
       "      <td>0.017355</td>\n",
       "      <td>12.626214</td>\n",
       "      <td>3B</td>\n",
       "      <td>Scott</td>\n",
       "      <td>Rolen</td>\n",
       "      <td>8166666</td>\n",
       "    </tr>\n",
       "    <tr>\n",
       "      <th>697</th>\n",
       "      <td>nevinph01</td>\n",
       "      <td>2000</td>\n",
       "      <td>2004</td>\n",
       "      <td>0.413092</td>\n",
       "      <td>-0.004921</td>\n",
       "      <td>0.001265</td>\n",
       "      <td>-0.004187</td>\n",
       "      <td>0.018112</td>\n",
       "      <td>0.007459</td>\n",
       "      <td>12.504390</td>\n",
       "      <td>1B</td>\n",
       "      <td>Phil</td>\n",
       "      <td>Nevin</td>\n",
       "      <td>1250000</td>\n",
       "    </tr>\n",
       "    <tr>\n",
       "      <th>540</th>\n",
       "      <td>kleskry01</td>\n",
       "      <td>1996</td>\n",
       "      <td>2005</td>\n",
       "      <td>-32.160247</td>\n",
       "      <td>-0.024014</td>\n",
       "      <td>-0.002373</td>\n",
       "      <td>0.000553</td>\n",
       "      <td>0.011764</td>\n",
       "      <td>0.029659</td>\n",
       "      <td>12.107791</td>\n",
       "      <td>1B</td>\n",
       "      <td>Ryan</td>\n",
       "      <td>Klesko</td>\n",
       "      <td>4750000</td>\n",
       "    </tr>\n",
       "    <tr>\n",
       "      <th>130</th>\n",
       "      <td>burrepa01</td>\n",
       "      <td>2001</td>\n",
       "      <td>2008</td>\n",
       "      <td>-2.150520</td>\n",
       "      <td>-0.043301</td>\n",
       "      <td>-0.005846</td>\n",
       "      <td>-0.002688</td>\n",
       "      <td>0.014357</td>\n",
       "      <td>0.053907</td>\n",
       "      <td>11.265028</td>\n",
       "      <td>OF</td>\n",
       "      <td>Pat</td>\n",
       "      <td>Burrell</td>\n",
       "      <td>7000000</td>\n",
       "    </tr>\n",
       "    <tr>\n",
       "      <th>11</th>\n",
       "      <td>aloumo01</td>\n",
       "      <td>1993</td>\n",
       "      <td>2004</td>\n",
       "      <td>-19.725633</td>\n",
       "      <td>0.004094</td>\n",
       "      <td>0.001009</td>\n",
       "      <td>-0.000408</td>\n",
       "      <td>0.010046</td>\n",
       "      <td>0.000702</td>\n",
       "      <td>11.078477</td>\n",
       "      <td>OF</td>\n",
       "      <td>Moises</td>\n",
       "      <td>Alou</td>\n",
       "      <td>5135000</td>\n",
       "    </tr>\n",
       "    <tr>\n",
       "      <th>451</th>\n",
       "      <td>hidalri01</td>\n",
       "      <td>2000</td>\n",
       "      <td>2003</td>\n",
       "      <td>-23.535757</td>\n",
       "      <td>-0.015363</td>\n",
       "      <td>0.013199</td>\n",
       "      <td>0.000248</td>\n",
       "      <td>0.016089</td>\n",
       "      <td>-0.003012</td>\n",
       "      <td>10.729866</td>\n",
       "      <td>RF</td>\n",
       "      <td>Richard</td>\n",
       "      <td>Hidalgo</td>\n",
       "      <td>3500000</td>\n",
       "    </tr>\n",
       "    <tr>\n",
       "      <th>566</th>\n",
       "      <td>leede02</td>\n",
       "      <td>1998</td>\n",
       "      <td>2009</td>\n",
       "      <td>16.243048</td>\n",
       "      <td>-0.016837</td>\n",
       "      <td>0.005194</td>\n",
       "      <td>-0.001011</td>\n",
       "      <td>0.010777</td>\n",
       "      <td>0.017443</td>\n",
       "      <td>10.625501</td>\n",
       "      <td>1B</td>\n",
       "      <td>Derrek</td>\n",
       "      <td>Lee</td>\n",
       "      <td>6708333</td>\n",
       "    </tr>\n",
       "    <tr>\n",
       "      <th>877</th>\n",
       "      <td>sosasa01</td>\n",
       "      <td>1990</td>\n",
       "      <td>2004</td>\n",
       "      <td>31.797720</td>\n",
       "      <td>-0.029347</td>\n",
       "      <td>-0.010880</td>\n",
       "      <td>-0.000893</td>\n",
       "      <td>0.035105</td>\n",
       "      <td>0.002812</td>\n",
       "      <td>9.738923</td>\n",
       "      <td>OF</td>\n",
       "      <td>Sammy</td>\n",
       "      <td>Sosa</td>\n",
       "      <td>5125000</td>\n",
       "    </tr>\n",
       "    <tr>\n",
       "      <th>715</th>\n",
       "      <td>ordonma01</td>\n",
       "      <td>1998</td>\n",
       "      <td>2009</td>\n",
       "      <td>19.581702</td>\n",
       "      <td>0.019869</td>\n",
       "      <td>0.006206</td>\n",
       "      <td>-0.002457</td>\n",
       "      <td>0.005908</td>\n",
       "      <td>-0.012039</td>\n",
       "      <td>9.455033</td>\n",
       "      <td>RF</td>\n",
       "      <td>Magglio</td>\n",
       "      <td>Ordonez</td>\n",
       "      <td>9000000</td>\n",
       "    </tr>\n",
       "    <tr>\n",
       "      <th>582</th>\n",
       "      <td>loftoke01</td>\n",
       "      <td>1992</td>\n",
       "      <td>2006</td>\n",
       "      <td>-1.640951</td>\n",
       "      <td>0.033718</td>\n",
       "      <td>-0.008805</td>\n",
       "      <td>0.007064</td>\n",
       "      <td>-0.018399</td>\n",
       "      <td>0.006790</td>\n",
       "      <td>9.277616</td>\n",
       "      <td>CF</td>\n",
       "      <td>Kenny</td>\n",
       "      <td>Lofton</td>\n",
       "      <td>3100000</td>\n",
       "    </tr>\n",
       "    <tr>\n",
       "      <th>989</th>\n",
       "      <td>wilkebr01</td>\n",
       "      <td>2002</td>\n",
       "      <td>2005</td>\n",
       "      <td>21.361637</td>\n",
       "      <td>-0.038775</td>\n",
       "      <td>0.004610</td>\n",
       "      <td>0.003298</td>\n",
       "      <td>-0.001164</td>\n",
       "      <td>0.047657</td>\n",
       "      <td>9.046660</td>\n",
       "      <td>OF</td>\n",
       "      <td>Brad</td>\n",
       "      <td>Wilkerson</td>\n",
       "      <td>3000000</td>\n",
       "    </tr>\n",
       "  </tbody>\n",
       "</table>\n",
       "</div>"
      ],
      "text/plain": [
       "      playerID  yearStart  yearEnd         PA        1B        2B        3B  \\\n",
       "87   bondsba01       1987     2004  24.784299 -0.045155  0.001328  0.001382   \n",
       "439  heltoto01       1998     2009  43.675883  0.001089  0.016508 -0.000715   \n",
       "918  thomafr04       1991     2007  34.028785 -0.020285  0.001079 -0.004901   \n",
       "920  thomeji01       1995     2008  -0.374432 -0.044329 -0.006403 -0.002835   \n",
       "68   berkmla01       2001     2011  23.814235 -0.021989  0.003858 -0.001269   \n",
       "785  ramirma02       1995     2007  -6.064563 -0.013538  0.006175 -0.003158   \n",
       "616  martied01       1990     2004   4.445406  0.000967  0.011742 -0.003917   \n",
       "775  pujolal01       2001     2015  57.212051 -0.008686  0.009619 -0.003546   \n",
       "966  walkela01       1991     2003 -40.441200 -0.004452  0.011844  0.001775   \n",
       "354  giambja01       1996     2008   2.493547 -0.026569 -0.001396 -0.004037   \n",
       "859  sheffga01       1990     2007   6.690191 -0.006684 -0.005174 -0.003385   \n",
       "511  jonesch06       1995     2011  21.007547 -0.004678 -0.000224 -0.001434   \n",
       "357  gilesbr02       1999     2008  40.816461 -0.015326  0.002823  0.002131   \n",
       "31   bagweje01       1991     2004  58.886467 -0.021194  0.002799 -0.002027   \n",
       "282  edmonji01       1995     2005 -15.735833 -0.027359  0.005619 -0.002631   \n",
       "0    abreubo01       1998     2011  56.872566 -0.008230  0.006438  0.000983   \n",
       "392  griffke02       1990     2007  35.066695 -0.019746 -0.000414 -0.001419   \n",
       "755  piazzmi01       1993     2004 -32.352606  0.006885 -0.007399 -0.004271   \n",
       "820  rodrial01       1996     2015  30.795886 -0.009831 -0.004662 -0.002716   \n",
       "710  olerujo01       1991     2003  21.302216 -0.000690  0.009111 -0.004263   \n",
       "832  salmoti01       1993     2003  11.166325 -0.020683  0.000710 -0.002179   \n",
       "400  guerrvl01       1998     2011  29.900693  0.016618  0.003089 -0.000093   \n",
       "991  willibe02       1993     2005   8.699086  0.007870 -0.002083  0.001081   \n",
       "247  delgaca01       1996     2008   8.797336 -0.038503  0.007053 -0.003178   \n",
       "271   dunnad01       2002     2013  41.963740 -0.060540 -0.009119 -0.003733   \n",
       "767  posadjo01       2000     2007 -44.147925 -0.018501  0.003245 -0.003950   \n",
       "902  sweenmi01       1999     2005 -13.156628  0.017627  0.013500 -0.004299   \n",
       "729  palmera01       1988     2004  60.263872 -0.013765  0.000432 -0.002090   \n",
       "345  garcino01       1997     2006  21.905659  0.016259  0.016416  0.004621   \n",
       "823  rolensc01       1997     2010  -8.087687 -0.019658  0.013833 -0.000405   \n",
       "697  nevinph01       2000     2004   0.413092 -0.004921  0.001265 -0.004187   \n",
       "540  kleskry01       1996     2005 -32.160247 -0.024014 -0.002373  0.000553   \n",
       "130  burrepa01       2001     2008  -2.150520 -0.043301 -0.005846 -0.002688   \n",
       "11    aloumo01       1993     2004 -19.725633  0.004094  0.001009 -0.000408   \n",
       "451  hidalri01       2000     2003 -23.535757 -0.015363  0.013199  0.000248   \n",
       "566    leede02       1998     2009  16.243048 -0.016837  0.005194 -0.001011   \n",
       "877   sosasa01       1990     2004  31.797720 -0.029347 -0.010880 -0.000893   \n",
       "715  ordonma01       1998     2009  19.581702  0.019869  0.006206 -0.002457   \n",
       "582  loftoke01       1992     2006  -1.640951  0.033718 -0.008805  0.007064   \n",
       "989  wilkebr01       2002     2005  21.361637 -0.038775  0.004610  0.003298   \n",
       "\n",
       "           HR        BB        OPW POS nameFirst     nameLast    salary  \n",
       "87   0.030737  0.112057  62.061290  OF     Barry        Bonds   8541667  \n",
       "439  0.009147  0.049936  41.002660  1B      Todd       Helton  10600000  \n",
       "918  0.021412  0.069512  38.107000  1B     Frank       Thomas   7000000  \n",
       "920  0.029738  0.081265  37.385272  1B       Jim        Thome   6337500  \n",
       "68   0.016979  0.064240  36.210367  1B     Lance      Berkman  10250000  \n",
       "785  0.026281  0.041303  35.785630  OF     Manny      Ramirez  13050000  \n",
       "616  0.004958  0.052803  32.906884  3B     Edgar     Martinez   3500000  \n",
       "775  0.025981  0.028491  32.727629  1B    Albert       Pujols  13870949  \n",
       "966  0.017229  0.020726  30.644305  OF     Larry       Walker   6050000  \n",
       "354  0.019933  0.063815  30.440007  1B     Jason       Giambi   3103333  \n",
       "859  0.018046  0.046055  29.090699  OF      Gary    Sheffield   9916667  \n",
       "511  0.010970  0.045416  28.383418  3B   Chipper        Jones  10833333  \n",
       "357  0.004659  0.055597  28.160054  OF     Brian        Giles   7666666  \n",
       "31   0.014081  0.053185  27.133545  1B      Jeff      Bagwell   6875000  \n",
       "282  0.021601  0.038543  23.486406  CF       Jim      Edmonds   4500000  \n",
       "0   -0.003154  0.050532  23.056375  RF     Bobby        Abreu   9000000  \n",
       "392  0.029520  0.019503  22.965706  OF       Ken      Griffey   8019599  \n",
       "755  0.026351  0.008523  21.998185   C      Mike       Piazza   8000000  \n",
       "820  0.026536  0.019092  21.892179  SS      Alex    Rodriguez  22000000  \n",
       "710 -0.003941  0.048769  20.740609  1B      John       Olerud   5750000  \n",
       "832  0.010578  0.045627  19.376667  RF       Tim       Salmon   5250000  \n",
       "400  0.017797 -0.013706  18.224289  RF  Vladimir     Guerrero   8000000  \n",
       "991  0.000837  0.023317  16.990761  CF    Bernie     Williams   6800000  \n",
       "247  0.022686  0.033912  16.270727  1B    Carlos      Delgado  12000000  \n",
       "271  0.026123  0.066696  16.042520  OF      Adam         Dunn  10500000  \n",
       "767  0.006433  0.043446  15.071846   C     Jorge       Posada   9000000  \n",
       "902  0.007064 -0.004878  14.328679  1B      Mike      Sweeney   1450000  \n",
       "729  0.016752  0.018113  14.152918  1B    Rafael     Palmeiro   4906603  \n",
       "345  0.007545 -0.028594  13.447706  SS     Nomar  Garciaparra   6625000  \n",
       "823  0.009241  0.017355  12.626214  3B     Scott        Rolen   8166666  \n",
       "697  0.018112  0.007459  12.504390  1B      Phil        Nevin   1250000  \n",
       "540  0.011764  0.029659  12.107791  1B      Ryan       Klesko   4750000  \n",
       "130  0.014357  0.053907  11.265028  OF       Pat      Burrell   7000000  \n",
       "11   0.010046  0.000702  11.078477  OF    Moises         Alou   5135000  \n",
       "451  0.016089 -0.003012  10.729866  RF   Richard      Hidalgo   3500000  \n",
       "566  0.010777  0.017443  10.625501  1B    Derrek          Lee   6708333  \n",
       "877  0.035105  0.002812   9.738923  OF     Sammy         Sosa   5125000  \n",
       "715  0.005908 -0.012039   9.455033  RF   Magglio      Ordonez   9000000  \n",
       "582 -0.018399  0.006790   9.277616  CF     Kenny       Lofton   3100000  \n",
       "989 -0.001164  0.047657   9.046660  OF      Brad    Wilkerson   3000000  "
      ]
     },
     "execution_count": 119,
     "metadata": {},
     "output_type": "execute_result"
    }
   ],
   "source": [
    "sortedcareerstats = subcareerstats.sort_values(by='OPW', ascending = False)\n",
    "sortedcareerstats.head(40)"
   ]
  },
  {
   "cell_type": "markdown",
   "metadata": {},
   "source": [
    "#### Problem 1(l)\n",
    "Pick one players from one of each of these 10 position C, 1B, 2B, 3B, SS, LF, CF, RF, DH, or OF keeping the total median salary of all 10 players below 20 million. Report their averaged predicted wins and total salary."
   ]
  },
  {
   "cell_type": "code",
   "execution_count": 152,
   "metadata": {
    "collapsed": false
   },
   "outputs": [
    {
     "data": {
      "text/html": [
       "<div>\n",
       "<table border=\"1\" class=\"dataframe\">\n",
       "  <thead>\n",
       "    <tr style=\"text-align: right;\">\n",
       "      <th></th>\n",
       "      <th>playerID</th>\n",
       "      <th>OPW</th>\n",
       "      <th>POS</th>\n",
       "      <th>salary</th>\n",
       "    </tr>\n",
       "  </thead>\n",
       "  <tbody>\n",
       "    <tr>\n",
       "      <th>87</th>\n",
       "      <td>bondsba01</td>\n",
       "      <td>62.061290</td>\n",
       "      <td>OF</td>\n",
       "      <td>8541667</td>\n",
       "    </tr>\n",
       "    <tr>\n",
       "      <th>439</th>\n",
       "      <td>heltoto01</td>\n",
       "      <td>41.002660</td>\n",
       "      <td>1B</td>\n",
       "      <td>10600000</td>\n",
       "    </tr>\n",
       "    <tr>\n",
       "      <th>918</th>\n",
       "      <td>thomafr04</td>\n",
       "      <td>38.107000</td>\n",
       "      <td>1B</td>\n",
       "      <td>7000000</td>\n",
       "    </tr>\n",
       "    <tr>\n",
       "      <th>920</th>\n",
       "      <td>thomeji01</td>\n",
       "      <td>37.385272</td>\n",
       "      <td>1B</td>\n",
       "      <td>6337500</td>\n",
       "    </tr>\n",
       "    <tr>\n",
       "      <th>68</th>\n",
       "      <td>berkmla01</td>\n",
       "      <td>36.210367</td>\n",
       "      <td>1B</td>\n",
       "      <td>10250000</td>\n",
       "    </tr>\n",
       "  </tbody>\n",
       "</table>\n",
       "</div>"
      ],
      "text/plain": [
       "      playerID        OPW POS    salary\n",
       "87   bondsba01  62.061290  OF   8541667\n",
       "439  heltoto01  41.002660  1B  10600000\n",
       "918  thomafr04  38.107000  1B   7000000\n",
       "920  thomeji01  37.385272  1B   6337500\n",
       "68   berkmla01  36.210367  1B  10250000"
      ]
     },
     "execution_count": 152,
     "metadata": {},
     "output_type": "execute_result"
    }
   ],
   "source": [
    "#Note we could have built another model between OPW and salary for EACH position\n",
    "slimcareerstats = sortedcareerstats[['playerID','OPW','POS','salary']]\n",
    "aboveavgstats = slimcareerstats[slimcareerstats['OPW'] > 0]\n",
    "#print slimcareerstats.shape\n",
    "aboveavgstats.head()"
   ]
  },
  {
   "cell_type": "code",
   "execution_count": 156,
   "metadata": {
    "collapsed": false
   },
   "outputs": [
    {
     "name": "stderr",
     "output_type": "stream",
     "text": [
      "C:\\Users\\Wolf\\Anaconda2\\lib\\site-packages\\ipykernel\\__main__.py:5: FutureWarning: sort is deprecated, use sort_values(inplace=True) for INPLACE sorting\n"
     ]
    },
    {
     "data": {
      "text/plain": [
       "POS\n",
       "C     8000000\n",
       "2B    4112500\n",
       "SS    4000000\n",
       "CF    3100000\n",
       "3B    2100000\n",
       "dtype: int64"
      ]
     },
     "execution_count": 156,
     "metadata": {},
     "output_type": "execute_result"
    }
   ],
   "source": [
    "def getMinSalary(s):\n",
    "    return s[\"salary\"].min()\n",
    "\n",
    "minSalaryByPos = aboveavgstats.groupby('POS').apply(getMinSalary)\n",
    "minSalaryByPos.sort(ascending=False)\n",
    "minSalaryByPos.head()"
   ]
  },
  {
   "cell_type": "code",
   "execution_count": 159,
   "metadata": {
    "collapsed": false
   },
   "outputs": [
    {
     "data": {
      "text/plain": [
       "['C', '2B', 'SS', 'CF', '3B', 'OF', 'RF', '1B']"
      ]
     },
     "execution_count": 159,
     "metadata": {},
     "output_type": "execute_result"
    }
   ],
   "source": [
    "posleft = list(minSalaryByPos.index)\n",
    "posleft"
   ]
  },
  {
   "cell_type": "code",
   "execution_count": null,
   "metadata": {
    "collapsed": true
   },
   "outputs": [],
   "source": []
  },
  {
   "cell_type": "code",
   "execution_count": 158,
   "metadata": {
    "collapsed": false
   },
   "outputs": [
    {
     "ename": "ValueError",
     "evalue": "attempt to get argmax of an empty sequence",
     "output_type": "error",
     "traceback": [
      "\u001b[1;31m---------------------------------------------------------------------------\u001b[0m",
      "\u001b[1;31mValueError\u001b[0m                                Traceback (most recent call last)",
      "\u001b[1;32m<ipython-input-158-fef25450c49c>\u001b[0m in \u001b[0;36m<module>\u001b[1;34m()\u001b[0m\n\u001b[0;32m     12\u001b[0m \u001b[1;33m\u001b[0m\u001b[0m\n\u001b[0;32m     13\u001b[0m     \u001b[1;31m# pick the one that stands out the most from what is expected given his salary\u001b[0m\u001b[1;33m\u001b[0m\u001b[1;33m\u001b[0m\u001b[0m\n\u001b[1;32m---> 14\u001b[1;33m     \u001b[0mj\u001b[0m \u001b[1;33m=\u001b[0m \u001b[0mleft\u001b[0m\u001b[1;33m[\u001b[0m\u001b[1;34m\"OPW\"\u001b[0m\u001b[1;33m]\u001b[0m\u001b[1;33m.\u001b[0m\u001b[0margmax\u001b[0m\u001b[1;33m(\u001b[0m\u001b[1;33m)\u001b[0m\u001b[1;33m\u001b[0m\u001b[0m\n\u001b[0m\u001b[0;32m     15\u001b[0m     \u001b[0mindexes\u001b[0m\u001b[1;33m.\u001b[0m\u001b[0mappend\u001b[0m\u001b[1;33m(\u001b[0m\u001b[0mj\u001b[0m\u001b[1;33m)\u001b[0m\u001b[1;33m\u001b[0m\u001b[0m\n\u001b[0;32m     16\u001b[0m \u001b[1;33m\u001b[0m\u001b[0m\n",
      "\u001b[1;32mC:\\Users\\Wolf\\Anaconda2\\lib\\site-packages\\pandas\\core\\series.pyc\u001b[0m in \u001b[0;36midxmax\u001b[1;34m(self, axis, out, skipna)\u001b[0m\n\u001b[0;32m   1246\u001b[0m         \u001b[0mnumpy\u001b[0m\u001b[1;33m.\u001b[0m\u001b[0mndarray\u001b[0m\u001b[1;33m.\u001b[0m\u001b[0margmax\u001b[0m\u001b[1;33m\u001b[0m\u001b[0m\n\u001b[0;32m   1247\u001b[0m         \"\"\"\n\u001b[1;32m-> 1248\u001b[1;33m         \u001b[0mi\u001b[0m \u001b[1;33m=\u001b[0m \u001b[0mnanops\u001b[0m\u001b[1;33m.\u001b[0m\u001b[0mnanargmax\u001b[0m\u001b[1;33m(\u001b[0m\u001b[0m_values_from_object\u001b[0m\u001b[1;33m(\u001b[0m\u001b[0mself\u001b[0m\u001b[1;33m)\u001b[0m\u001b[1;33m,\u001b[0m \u001b[0mskipna\u001b[0m\u001b[1;33m=\u001b[0m\u001b[0mskipna\u001b[0m\u001b[1;33m)\u001b[0m\u001b[1;33m\u001b[0m\u001b[0m\n\u001b[0m\u001b[0;32m   1249\u001b[0m         \u001b[1;32mif\u001b[0m \u001b[0mi\u001b[0m \u001b[1;33m==\u001b[0m \u001b[1;33m-\u001b[0m\u001b[1;36m1\u001b[0m\u001b[1;33m:\u001b[0m\u001b[1;33m\u001b[0m\u001b[0m\n\u001b[0;32m   1250\u001b[0m             \u001b[1;32mreturn\u001b[0m \u001b[0mnp\u001b[0m\u001b[1;33m.\u001b[0m\u001b[0mnan\u001b[0m\u001b[1;33m\u001b[0m\u001b[0m\n",
      "\u001b[1;32mC:\\Users\\Wolf\\Anaconda2\\lib\\site-packages\\pandas\\core\\nanops.pyc\u001b[0m in \u001b[0;36mnanargmax\u001b[1;34m(values, axis, skipna)\u001b[0m\n\u001b[0;32m    457\u001b[0m     values, mask, dtype, _ = _get_values(values, skipna, fill_value_typ='-inf',\n\u001b[0;32m    458\u001b[0m                                          isfinite=True)\n\u001b[1;32m--> 459\u001b[1;33m     \u001b[0mresult\u001b[0m \u001b[1;33m=\u001b[0m \u001b[0mvalues\u001b[0m\u001b[1;33m.\u001b[0m\u001b[0margmax\u001b[0m\u001b[1;33m(\u001b[0m\u001b[0maxis\u001b[0m\u001b[1;33m)\u001b[0m\u001b[1;33m\u001b[0m\u001b[0m\n\u001b[0m\u001b[0;32m    460\u001b[0m     \u001b[0mresult\u001b[0m \u001b[1;33m=\u001b[0m \u001b[0m_maybe_arg_null_out\u001b[0m\u001b[1;33m(\u001b[0m\u001b[0mresult\u001b[0m\u001b[1;33m,\u001b[0m \u001b[0maxis\u001b[0m\u001b[1;33m,\u001b[0m \u001b[0mmask\u001b[0m\u001b[1;33m,\u001b[0m \u001b[0mskipna\u001b[0m\u001b[1;33m)\u001b[0m\u001b[1;33m\u001b[0m\u001b[0m\n\u001b[0;32m    461\u001b[0m     \u001b[1;32mreturn\u001b[0m \u001b[0mresult\u001b[0m\u001b[1;33m\u001b[0m\u001b[0m\n",
      "\u001b[1;31mValueError\u001b[0m: attempt to get argmax of an empty sequence"
     ]
    }
   ],
   "source": [
    "# indexes will contain the indexes of the players we chose\n",
    "indexes=[]\n",
    "    \n",
    "for i in range(len(posleft)):\n",
    "    \n",
    "    # you need to have at least this much left to not go over in the next picks\n",
    "    maxmoney = moneyleft - sum([minSalaryByPos[x] for x in posleft[:-1] ])\n",
    "    \n",
    "    # consider only players in positions we have not selected\n",
    "    index = [True if elem in posleft else False for elem in aboveavgstats.POS.values]\n",
    "    left = aboveavgstats[index & (aboveavgstats.salary <= maxmoney)]\n",
    "    \n",
    "    # pick the one that stands out the most from what is expected given his salary\n",
    "    j = left[\"OPW\"].argmax()\n",
    "    indexes.append(j)\n",
    "    \n",
    "    # remove position we just filled from posleft\n",
    "    posleft.remove(left.loc[j].POS)\n",
    "    moneyleft = moneyleft - left.loc[j].salary\n",
    "   \n",
    "topPicks = aboveavgstats.loc[indexes,:]\n",
    "topPicks=topPicks.sort([\"OPW\"],ascending=False)"
   ]
  },
  {
   "cell_type": "markdown",
   "metadata": {},
   "source": [
    "#### Problem 1(m)\n",
    "What do these players outperform in? Singles, doubles, triples HR or BB?"
   ]
  },
  {
   "cell_type": "code",
   "execution_count": null,
   "metadata": {
    "collapsed": false
   },
   "outputs": [],
   "source": [
    "### Your code here ###"
   ]
  },
  {
   "cell_type": "markdown",
   "metadata": {},
   "source": [
    "** Your answer here: **"
   ]
  },
  {
   "cell_type": "markdown",
   "metadata": {},
   "source": [
    "## Discussion for Problem 1\n",
    "\n",
    "*Write a brief discussion of your conclusions to the questions and tasks above in 100 words or less.*\n",
    "\n",
    "---"
   ]
  },
  {
   "cell_type": "markdown",
   "metadata": {},
   "source": [
    "# Problem 2:  $k$-Nearest Neighbors and Cross Validation \n",
    "\n",
    "What is the optimal $k$ for predicting species using $k$-nearest neighbor classification \n",
    "on the four features provided by the iris dataset.\n",
    "\n",
    "In this problem you will get to know the famous iris data set, and use cross validation to select the optimal $k$ for a $k$-nearest neighbor classification. This problem set makes heavy use of the [sklearn](http://scikit-learn.org/stable/) library. In addition to Pandas, it is one of the most useful libraries for data scientists! After completing this homework assignment you will know all the basics to get started with your own machine learning projects in sklearn. \n",
    "\n",
    "Future lectures will give further background information on different classifiers and their specific strengths and weaknesses, but when you have the basics for sklearn down, changing the classifier will boil down to exchanging one to two lines of code.\n",
    "\n",
    "The data set is so popular, that sklearn provides an extra function to load it:"
   ]
  },
  {
   "cell_type": "code",
   "execution_count": 132,
   "metadata": {
    "collapsed": false
   },
   "outputs": [
    {
     "name": "stdout",
     "output_type": "stream",
     "text": [
      "(150L, 4L) (150L,)\n"
     ]
    }
   ],
   "source": [
    "#load the iris data set\n",
    "iris = sklearn.datasets.load_iris()\n",
    "\n",
    "X = iris.data  \n",
    "Y = iris.target\n",
    "\n",
    "print X.shape, Y.shape"
   ]
  },
  {
   "cell_type": "markdown",
   "metadata": {},
   "source": [
    "#### Problem 2(a) \n",
    "Split the data into a train and a test set. Use a random selection of 33% of the samples as test data. Sklearn provides the [`train_test_split`](http://scikit-learn.org/stable/modules/generated/sklearn.cross_validation.train_test_split.html) function for this purpose. Print the dimensions of all the train and test data sets you have created. "
   ]
  },
  {
   "cell_type": "code",
   "execution_count": 133,
   "metadata": {
    "collapsed": false
   },
   "outputs": [
    {
     "name": "stdout",
     "output_type": "stream",
     "text": [
      "(100L, 4L)\n",
      "(50L, 4L)\n",
      "(100L,)\n",
      "(50L,)\n"
     ]
    },
    {
     "data": {
      "text/plain": [
       "array([1, 0, 2, 1, 1, 0, 1, 2, 1, 1, 2, 0, 0, 0, 0, 1, 2, 1, 1, 2, 0, 2, 0,\n",
       "       2, 2, 2, 2, 2, 0, 0, 0, 0, 1, 0, 0, 2, 1, 0, 0, 0, 2, 1, 1, 0, 0, 1,\n",
       "       2, 2, 1, 2])"
      ]
     },
     "execution_count": 133,
     "metadata": {},
     "output_type": "execute_result"
    }
   ],
   "source": [
    "Xtrain, Xtest, Ytrain, Ytest = sklearn.cross_validation.train_test_split(X, Y, test_size = 0.33, random_state = 42)\n",
    "print Xtrain.shape\n",
    "print Xtest.shape\n",
    "print Ytrain.shape\n",
    "print Ytest.shape\n",
    "Ytest"
   ]
  },
  {
   "cell_type": "markdown",
   "metadata": {},
   "source": [
    "#### Problem 2(b)\n",
    "\n",
    "Examine the data further by looking at the projections to the first two principal components of the data. Use the [`TruncatedSVD`](http://scikit-learn.org/stable/modules/generated/sklearn.decomposition.TruncatedSVD.html) function for this purpose, and create a scatter plot. Use the colors on the scatter plot to represent the different classes in the target data. "
   ]
  },
  {
   "cell_type": "code",
   "execution_count": 134,
   "metadata": {
    "collapsed": false
   },
   "outputs": [
    {
     "data": {
      "text/plain": [
       "<matplotlib.collections.PathCollection at 0xe3a2358>"
      ]
     },
     "execution_count": 134,
     "metadata": {},
     "output_type": "execute_result"
    },
    {
     "data": {
      "image/png": "[encoded data removed]",
      "text/plain": [
       "<matplotlib.figure.Figure at 0xe2060f0>"
      ]
     },
     "metadata": {},
     "output_type": "display_data"
    }
   ],
   "source": [
    "svd = sklearn.decomposition.TruncatedSVD(n_components = 2)\n",
    "meanX = Xtrain - np.mean(Xtrain, axis = 0)\n",
    "X_2d = svd.fit_transform(meanX)\n",
    "\n",
    "plt.scatter(X_2d[:,0], X_2d[:,1], c=Ytrain)"
   ]
  },
  {
   "cell_type": "markdown",
   "metadata": {},
   "source": [
    "#### Problem 2(c) \n",
    "\n",
    "In the lecture we discussed how to use cross validation to estimate the optimal value for $k$ (the number of nearest neighbors to base the classification on). Use ***ten fold cross validation*** to estimate the optimal value for $k$ for the iris data set. \n",
    "\n",
    "**Note**: For your convenience sklearn does not only include the [KNN classifier](http://scikit-learn.org/stable/modules/generated/sklearn.neighbors.KNeighborsClassifier.html), but also a [grid search function](http://scikit-learn.org/stable/modules/generated/sklearn.grid_search.GridSearchCV.html#sklearn.grid_search.GridSearchCV). The function is called grid search, because if you have to optimize more than one parameter, it is common practice to define a range of possible values for each parameter. An exhaustive search then runs over the complete grid defined by all the possible parameter combinations. This can get very computation heavy, but luckily our KNN classifier only requires tuning of a single parameter for this problem set. "
   ]
  },
  {
   "cell_type": "code",
   "execution_count": 135,
   "metadata": {
    "collapsed": false
   },
   "outputs": [
    {
     "data": {
      "text/plain": [
       "GridSearchCV(cv=10, error_score='raise',\n",
       "       estimator=KNeighborsClassifier(algorithm='auto', leaf_size=30, metric='minkowski',\n",
       "           metric_params=None, n_jobs=1, n_neighbors=5, p=2,\n",
       "           weights='uniform'),\n",
       "       fit_params={}, iid=True, n_jobs=1,\n",
       "       param_grid={'n_neighbors': array([ 1,  2,  3,  4,  5,  6,  7,  8,  9, 10, 11, 12, 13, 14, 15, 16, 17,\n",
       "       18, 19, 20])},\n",
       "       pre_dispatch='2*n_jobs', refit=True, scoring=None, verbose=0)"
      ]
     },
     "execution_count": 135,
     "metadata": {},
     "output_type": "execute_result"
    }
   ],
   "source": [
    "k = np.arange(1, 21)\n",
    "\n",
    "parameters = {'n_neighbors': k}\n",
    "knn = sklearn.neighbors.KNeighborsClassifier()\n",
    "clf = sklearn.grid_search.GridSearchCV(knn, parameters, cv=10)\n",
    "clf.fit(Xtrain, Ytrain)\n",
    "#clf.grid_scores_"
   ]
  },
  {
   "cell_type": "markdown",
   "metadata": {},
   "source": [
    "#### Problem 2(d)\n",
    "\n",
    "Visualize the result by plotting the score results versus values for $k$. "
   ]
  },
  {
   "cell_type": "code",
   "execution_count": 136,
   "metadata": {
    "collapsed": false
   },
   "outputs": [],
   "source": [
    "a = clf.grid_scores_\n",
    "scores = [b.cv_validation_scores for b in a]\n",
    "\n",
    "score_means = [c.mean_validation_score for c in a]"
   ]
  },
  {
   "cell_type": "markdown",
   "metadata": {},
   "source": [
    "Verify that the grid search has indeed chosen the right parameter value for $k$."
   ]
  },
  {
   "cell_type": "code",
   "execution_count": 137,
   "metadata": {
    "collapsed": false
   },
   "outputs": [
    {
     "data": {
      "image/png": "[encoded data removed]",
      "text/plain": [
       "<matplotlib.figure.Figure at 0xa437e48>"
      ]
     },
     "metadata": {},
     "output_type": "display_data"
    }
   ],
   "source": [
    "plt.boxplot(scores)\n",
    "plt.scatter(k,score_means, c='k', zorder=2)\n",
    "plt.ylim(0.8, 1.1)\n",
    "plt.title('Accuracy as a function of $k$')\n",
    "plt.ylabel('Accuracy')\n",
    "plt.xlabel('Choice of k')\n",
    "plt.show()\n"
   ]
  },
  {
   "cell_type": "code",
   "execution_count": 138,
   "metadata": {
    "collapsed": false
   },
   "outputs": [
    {
     "data": {
      "text/plain": [
       "{'n_neighbors': 4}"
      ]
     },
     "execution_count": 138,
     "metadata": {},
     "output_type": "execute_result"
    }
   ],
   "source": [
    "clf.best_params_"
   ]
  },
  {
   "cell_type": "markdown",
   "metadata": {},
   "source": [
    "#### Problem 2(e)\n",
    "\n",
    "Test the performance of our tuned KNN classifier on the test set."
   ]
  },
  {
   "cell_type": "code",
   "execution_count": 139,
   "metadata": {
    "collapsed": false
   },
   "outputs": [
    {
     "name": "stdout",
     "output_type": "stream",
     "text": [
      "[[19  0  0]\n",
      " [ 0 15  0]\n",
      " [ 0  1 15]]\n",
      "Total accuracy: 0.98000\n",
      "Class1 accuracy: 1.00000\n",
      "Class2 accuracy: 1.00000\n",
      "Class3 accuracy: 0.93750\n",
      "Geometric mean accuracy: 0.96825\n"
     ]
    }
   ],
   "source": [
    "from sklearn.metrics import confusion_matrix\n",
    "predicted = clf.predict(Xtest)\n",
    "con_mat = confusion_matrix(Ytest, predicted, [0, 1, 2])\n",
    "con_mat\n",
    "\n",
    "import math\n",
    "total_accuracy = (con_mat[0, 0] + con_mat[1, 1] + con_mat[2, 2]) / float(np.sum(con_mat))\n",
    "class1_accuracy = (con_mat[0, 0] / float(np.sum(con_mat[0, :])))\n",
    "class2_accuracy = (con_mat[1, 1] / float(np.sum(con_mat[1, :])))\n",
    "class3_accuracy = (con_mat[2, 2] / float(np.sum(con_mat[2, :])))\n",
    "print(con_mat)\n",
    "print('Total accuracy: %.5f' % total_accuracy)\n",
    "print('Class1 accuracy: %.5f' % class1_accuracy)\n",
    "print('Class2 accuracy: %.5f' % class2_accuracy)\n",
    "print('Class3 accuracy: %.5f' % class3_accuracy)\n",
    "print('Geometric mean accuracy: %.5f' % math.sqrt((class1_accuracy * class2_accuracy * class3_accuracy)))"
   ]
  },
  {
   "cell_type": "markdown",
   "metadata": {},
   "source": [
    "## Discussion for Problem 2\n",
    "\n",
    "*Write a brief discussion of your conclusions to the questions and tasks above in 100 words or less.*\n",
    "\n",
    "---"
   ]
  },
  {
   "cell_type": "markdown",
   "metadata": {},
   "source": [
    "# Problem 3: The Curse and Blessing of Higher Dimensions\n",
    "\n",
    "In this problem we will investigate the influence of higher dimensional spaces on the classification. The data set is again one of the standard data sets from sklearn. The [digits data set](http://scikit-learn.org/stable/modules/generated/sklearn.datasets.load_digits.html) is similar to the MNIST data set discussed in the lecture. The main difference is, that each digit is represented by an 8x8 pixel image patch, which is considerably smaller than the 28x28 pixels from MNIST. In addition, the gray values are restricted to 16 different values (4 bit), instead of 256 (8 bit) for MNIST. \n",
    "\n",
    "First we again load our data set."
   ]
  },
  {
   "cell_type": "code",
   "execution_count": null,
   "metadata": {
    "collapsed": false
   },
   "outputs": [],
   "source": [
    "digits = sklearn.datasets.load_digits()\n",
    "\n",
    "X = digits.data  \n",
    "Y = digits.target\n",
    "\n",
    "print X.shape, Y.shape"
   ]
  },
  {
   "cell_type": "markdown",
   "metadata": {},
   "source": [
    "#### Problem 3(a) \n",
    "\n",
    "Start with the same steps as in Problem 2. Split the data into train and test set. Use 33% of the samples as test data. Print the dimensions of all the train and test data sets you created. "
   ]
  },
  {
   "cell_type": "code",
   "execution_count": null,
   "metadata": {
    "collapsed": false
   },
   "outputs": [],
   "source": [
    "### Your code here ###"
   ]
  },
  {
   "cell_type": "markdown",
   "metadata": {},
   "source": [
    "#### Problem 3(b) \n",
    "\n",
    "Similar to Problem 2(b), create a scatter plot of the projections to the first two PCs.  Use the colors on the scatter plot to represent the different classes in the target data. How well can we separate the classes?\n",
    "\n",
    "**Hint**: Use a `Colormap` in matplotlib to represent the diferent classes in the target data. "
   ]
  },
  {
   "cell_type": "code",
   "execution_count": null,
   "metadata": {
    "collapsed": false
   },
   "outputs": [],
   "source": [
    "### Your code here ###"
   ]
  },
  {
   "cell_type": "markdown",
   "metadata": {},
   "source": [
    "Create individual scatter plots using only two classes at a time to explore which classes are most difficult to distinguish in terms of class separability.  You do not need to create scatter plots for all pairwise comparisons, but at least show one. "
   ]
  },
  {
   "cell_type": "code",
   "execution_count": null,
   "metadata": {
    "collapsed": false
   },
   "outputs": [],
   "source": [
    "### Your code here ###"
   ]
  },
  {
   "cell_type": "markdown",
   "metadata": {},
   "source": [
    "Give a brief interpretation of the scatter plot. Which classes look like hard to distinguish? Do both feature dimensions contribute to the class separability? "
   ]
  },
  {
   "cell_type": "markdown",
   "metadata": {},
   "source": [
    "** Your answer here: **"
   ]
  },
  {
   "cell_type": "markdown",
   "metadata": {},
   "source": [
    "#### Problem 3(c) \n",
    "\n",
    "Write a **ten-fold cross validation** to estimate the optimal value for $k$ for the digits data set. *However*, this time we are interested in the influence of the number of dimensions we project the data down as well. \n",
    "\n",
    "Extend the cross validation as done for the iris data set, to optimize $k$ for different dimensional projections of the data. Create a boxplot showing test scores for the optimal $k$ for each $d$-dimensional subspace with $d$ ranging from one to ten. The plot should have the scores on the y-axis and the different dimensions $d$ on the x-axis. You can use your favorite plot function for the boxplots. [Seaborn](http://web.stanford.edu/~mwaskom/software/seaborn/index.html) is worth having a look at though. It is a great library for statistical visualization and of course also comes with a [`boxplot`](http://web.stanford.edu/~mwaskom/software/seaborn/generated/seaborn.boxplot.html) function that has simple means for changing the labels on the x-axis."
   ]
  },
  {
   "cell_type": "code",
   "execution_count": null,
   "metadata": {
    "collapsed": false
   },
   "outputs": [],
   "source": [
    "### Your cross validation and evaluation code here ###"
   ]
  },
  {
   "cell_type": "code",
   "execution_count": null,
   "metadata": {
    "collapsed": false
   },
   "outputs": [],
   "source": [
    "### Your boxplot code here ### "
   ]
  },
  {
   "cell_type": "markdown",
   "metadata": {},
   "source": [
    "Write a short interpretation of the generated plot, answering the following questions:\n",
    "\n",
    "* What trend do you see in the plot for increasing dimensions?\n",
    "\n",
    "* Why do you think this is happening?"
   ]
  },
  {
   "cell_type": "markdown",
   "metadata": {},
   "source": [
    "** Your answer here: **"
   ]
  },
  {
   "cell_type": "markdown",
   "metadata": {},
   "source": [
    "#### Problem 3(d) \n",
    "\n",
    "**For AC209 Students**: Change the boxplot we generated above to also show the optimal value for $k$ chosen by the cross validation grid search. "
   ]
  },
  {
   "cell_type": "code",
   "execution_count": null,
   "metadata": {
    "collapsed": false
   },
   "outputs": [],
   "source": [
    "### Your code here ### "
   ]
  },
  {
   "cell_type": "markdown",
   "metadata": {},
   "source": [
    "Write a short interpretation answering the following questions:\n",
    "\n",
    "* Which trend do you observe for the optimal value of $k$?\n",
    "\n",
    "* Why do you think this is happening?"
   ]
  },
  {
   "cell_type": "markdown",
   "metadata": {},
   "source": [
    "** Your answer here: **"
   ]
  },
  {
   "cell_type": "markdown",
   "metadata": {},
   "source": [
    "## Discussion for Problem 3\n",
    "\n",
    "*Write a brief discussion of your conclusions to the questions and tasks above in 100 words or less.*\n",
    "\n",
    "---"
   ]
  },
  {
   "cell_type": "markdown",
   "metadata": {},
   "source": [
    "# Submission Instructions\n",
    "\n",
    "To submit your homework, create a folder named **lastname_firstinitial_hw#** and place your IPython notebooks, data files, and any other files in this folder. Your IPython Notebooks should be completely executed with the results visible in the notebook. We should not have to run any code.  Compress the folder (please use .zip compression) and submit to the CS109 dropbox in the appropriate folder. *If we cannot access your work because these directions are not followed correctly, we will not grade your work.*\n"
   ]
  },
  {
   "cell_type": "code",
   "execution_count": null,
   "metadata": {
    "collapsed": false
   },
   "outputs": [],
   "source": []
  }
 ],
 "metadata": {
  "kernelspec": {
   "display_name": "Python 2",
   "language": "python",
   "name": "python2"
  },
  "language_info": {
   "codemirror_mode": {
    "name": "ipython",
    "version": 2
   },
   "file_extension": ".py",
   "mimetype": "text/x-python",
   "name": "python",
   "nbconvert_exporter": "python",
   "pygments_lexer": "ipython2",
   "version": "2.7.11"
  }
 },
 "nbformat": 4,
 "nbformat_minor": 0
}
